{
 "cells": [
  {
   "cell_type": "code",
   "execution_count": 1,
   "id": "48458613",
   "metadata": {},
   "outputs": [],
   "source": [
    "import pandas as pd"
   ]
  },
  {
   "cell_type": "code",
   "execution_count": 6,
   "id": "1a3e8d42",
   "metadata": {},
   "outputs": [
    {
     "data": {
      "text/html": [
       "<div>\n",
       "<style scoped>\n",
       "    .dataframe tbody tr th:only-of-type {\n",
       "        vertical-align: middle;\n",
       "    }\n",
       "\n",
       "    .dataframe tbody tr th {\n",
       "        vertical-align: top;\n",
       "    }\n",
       "\n",
       "    .dataframe thead th {\n",
       "        text-align: right;\n",
       "    }\n",
       "</style>\n",
       "<table border=\"1\" class=\"dataframe\">\n",
       "  <thead>\n",
       "    <tr style=\"text-align: right;\">\n",
       "      <th></th>\n",
       "      <th>mpg</th>\n",
       "      <th>cyl</th>\n",
       "      <th>displ</th>\n",
       "      <th>hp</th>\n",
       "      <th>weight</th>\n",
       "      <th>accel</th>\n",
       "      <th>yr</th>\n",
       "      <th>origin</th>\n",
       "      <th>name</th>\n",
       "    </tr>\n",
       "  </thead>\n",
       "  <tbody>\n",
       "    <tr>\n",
       "      <th>0</th>\n",
       "      <td>18.0</td>\n",
       "      <td>8</td>\n",
       "      <td>307.0</td>\n",
       "      <td>130</td>\n",
       "      <td>3504</td>\n",
       "      <td>12.0</td>\n",
       "      <td>70</td>\n",
       "      <td>US</td>\n",
       "      <td>chevrolet chevelle malibu</td>\n",
       "    </tr>\n",
       "    <tr>\n",
       "      <th>1</th>\n",
       "      <td>15.0</td>\n",
       "      <td>8</td>\n",
       "      <td>350.0</td>\n",
       "      <td>165</td>\n",
       "      <td>3693</td>\n",
       "      <td>11.5</td>\n",
       "      <td>70</td>\n",
       "      <td>US</td>\n",
       "      <td>buick skylark 320</td>\n",
       "    </tr>\n",
       "    <tr>\n",
       "      <th>2</th>\n",
       "      <td>18.0</td>\n",
       "      <td>8</td>\n",
       "      <td>318.0</td>\n",
       "      <td>150</td>\n",
       "      <td>3436</td>\n",
       "      <td>11.0</td>\n",
       "      <td>70</td>\n",
       "      <td>US</td>\n",
       "      <td>plymouth satellite</td>\n",
       "    </tr>\n",
       "    <tr>\n",
       "      <th>3</th>\n",
       "      <td>16.0</td>\n",
       "      <td>8</td>\n",
       "      <td>304.0</td>\n",
       "      <td>150</td>\n",
       "      <td>3433</td>\n",
       "      <td>12.0</td>\n",
       "      <td>70</td>\n",
       "      <td>US</td>\n",
       "      <td>amc rebel sst</td>\n",
       "    </tr>\n",
       "    <tr>\n",
       "      <th>4</th>\n",
       "      <td>17.0</td>\n",
       "      <td>8</td>\n",
       "      <td>302.0</td>\n",
       "      <td>140</td>\n",
       "      <td>3449</td>\n",
       "      <td>10.5</td>\n",
       "      <td>70</td>\n",
       "      <td>US</td>\n",
       "      <td>ford torino</td>\n",
       "    </tr>\n",
       "  </tbody>\n",
       "</table>\n",
       "</div>"
      ],
      "text/plain": [
       "    mpg  cyl  displ   hp  weight  accel  yr origin                       name\n",
       "0  18.0    8  307.0  130    3504   12.0  70     US  chevrolet chevelle malibu\n",
       "1  15.0    8  350.0  165    3693   11.5  70     US          buick skylark 320\n",
       "2  18.0    8  318.0  150    3436   11.0  70     US         plymouth satellite\n",
       "3  16.0    8  304.0  150    3433   12.0  70     US              amc rebel sst\n",
       "4  17.0    8  302.0  140    3449   10.5  70     US                ford torino"
      ]
     },
     "execution_count": 6,
     "metadata": {},
     "output_type": "execute_result"
    }
   ],
   "source": [
    "df = pd.read_csv('http://bit.ly/autompg-csv')\n",
    "df.head()"
   ]
  },
  {
   "cell_type": "code",
   "execution_count": 7,
   "id": "e834f465",
   "metadata": {},
   "outputs": [
    {
     "name": "stderr",
     "output_type": "stream",
     "text": [
      "Matplotlib is building the font cache; this may take a moment.\n"
     ]
    },
    {
     "data": {
      "text/plain": [
       "<AxesSubplot:xlabel='hp', ylabel='mpg'>"
      ]
     },
     "execution_count": 7,
     "metadata": {},
     "output_type": "execute_result"
    },
    {
     "data": {
      "image/png": "[encoded data removed]",
      "text/plain": [
       "<Figure size 432x288 with 1 Axes>"
      ]
     },
     "metadata": {
      "needs_background": "light"
     },
     "output_type": "display_data"
    }
   ],
   "source": [
    "%matplotlib inline\n",
    "df.plot.scatter(x='hp', y='mpg')"
   ]
  },
  {
   "cell_type": "markdown",
   "id": "dab79af0",
   "metadata": {},
   "source": [
    "### This the first python tutorial."
   ]
  },
  {
   "cell_type": "code",
   "execution_count": 8,
   "id": "22624451",
   "metadata": {},
   "outputs": [],
   "source": [
    "x = 3"
   ]
  },
  {
   "cell_type": "code",
   "execution_count": 9,
   "id": "7d140e76",
   "metadata": {},
   "outputs": [
    {
     "name": "stdout",
     "output_type": "stream",
     "text": [
      "Variable   Type         Data/Info\n",
      "---------------------------------\n",
      "df         DataFrame          mpg  cyl  displ   h<...>n\\n[392 rows x 9 columns]\n",
      "pd         module       <module 'pandas' from '/U<...>ages/pandas/__init__.py'>\n",
      "x          int          3\n"
     ]
    }
   ],
   "source": [
    "%whos"
   ]
  },
  {
   "cell_type": "code",
   "execution_count": 10,
   "id": "2d9d9413",
   "metadata": {},
   "outputs": [
    {
     "name": "stdout",
     "output_type": "stream",
     "text": [
      "Enter a number: 45\n"
     ]
    }
   ],
   "source": [
    "x =  input(\"Enter a number: \")"
   ]
  },
  {
   "cell_type": "code",
   "execution_count": 11,
   "id": "4bbad11f",
   "metadata": {},
   "outputs": [
    {
     "name": "stdout",
     "output_type": "stream",
     "text": [
      "45 <class 'str'>\n"
     ]
    }
   ],
   "source": [
    "print(x, type(x))"
   ]
  },
  {
   "cell_type": "code",
   "execution_count": 14,
   "id": "ce60df1d",
   "metadata": {},
   "outputs": [
    {
     "name": "stdout",
     "output_type": "stream",
     "text": [
      "20\n"
     ]
    }
   ],
   "source": [
    "print(x-25)"
   ]
  },
  {
   "cell_type": "code",
   "execution_count": 13,
   "id": "9bd3c979",
   "metadata": {},
   "outputs": [],
   "source": [
    "x = int(x)"
   ]
  },
  {
   "cell_type": "code",
   "execution_count": 15,
   "id": "5ea41773",
   "metadata": {},
   "outputs": [
    {
     "name": "stdout",
     "output_type": "stream",
     "text": [
      "20\n"
     ]
    }
   ],
   "source": [
    "print(x-25)"
   ]
  },
  {
   "cell_type": "code",
   "execution_count": 16,
   "id": "0e950196",
   "metadata": {},
   "outputs": [
    {
     "name": "stdout",
     "output_type": "stream",
     "text": [
      "Help on method raw_input in module ipykernel.kernelbase:\n",
      "\n",
      "raw_input(prompt='') method of ipykernel.ipkernel.IPythonKernel instance\n",
      "    Forward raw_input to frontends\n",
      "    \n",
      "    Raises\n",
      "    ------\n",
      "    StdinNotImplentedError if active frontend doesn't support stdin.\n",
      "\n"
     ]
    }
   ],
   "source": [
    "help(input)"
   ]
  },
  {
   "cell_type": "code",
   "execution_count": 17,
   "id": "09691b15",
   "metadata": {},
   "outputs": [
    {
     "name": "stdout",
     "output_type": "stream",
     "text": [
      "4\n",
      "5\n",
      "I'm outside if block\n"
     ]
    }
   ],
   "source": [
    "a = int(input())\n",
    "b = int(input())\n",
    "if a > b:\n",
    "    print(a)\n",
    "    print(\"I'm inside if block\")\n",
    "print(\"I'm outside if block\")"
   ]
  },
  {
   "cell_type": "code",
   "execution_count": 18,
   "id": "95a08c5e",
   "metadata": {},
   "outputs": [
    {
     "name": "stdout",
     "output_type": "stream",
     "text": [
      "Enter the first number : 4\n",
      "Enter the second number : 5\n",
      "b is greater than a.\n"
     ]
    }
   ],
   "source": [
    "a = float(input(\"Enter the first number : \"))\n",
    "b = float(input(\"Enter the second number : \"))\n",
    "\n",
    "if b > a:\n",
    "    print(\"b is greater than a.\")\n",
    "elif a == b:\n",
    "    print(\"a and b are equal.\")\n",
    "else:\n",
    "    print(\"a is greater than b\")"
   ]
  },
  {
   "cell_type": "code",
   "execution_count": 22,
   "id": "00c4cf08",
   "metadata": {},
   "outputs": [],
   "source": [
    "def addNums(*args):\n",
    "    result = 0\n",
    "    \n",
    "    for i in range(len(args)):\n",
    "        result += args[i] # result = result + args[i]\n",
    "    return result"
   ]
  },
  {
   "cell_type": "code",
   "execution_count": 24,
   "id": "38633fe2",
   "metadata": {},
   "outputs": [
    {
     "data": {
      "text/plain": [
       "37.16"
      ]
     },
     "execution_count": 24,
     "metadata": {},
     "output_type": "execute_result"
    }
   ],
   "source": [
    "addNums(2,4,5,.76,5.4,9,11)"
   ]
  },
  {
   "cell_type": "code",
   "execution_count": 25,
   "id": "7ae69b3f",
   "metadata": {},
   "outputs": [],
   "source": [
    "import numpy as np"
   ]
  },
  {
   "cell_type": "code",
   "execution_count": 26,
   "id": "accdf712",
   "metadata": {},
   "outputs": [],
   "source": [
    "a = np.array([1,2,3,4])"
   ]
  },
  {
   "cell_type": "code",
   "execution_count": 27,
   "id": "9e60ee7b",
   "metadata": {},
   "outputs": [],
   "source": [
    "b = np.array((1,2,4,5))"
   ]
  },
  {
   "cell_type": "code",
   "execution_count": 28,
   "id": "64399566",
   "metadata": {},
   "outputs": [
    {
     "name": "stdout",
     "output_type": "stream",
     "text": [
      "[1 2 3 4]\n"
     ]
    }
   ],
   "source": [
    "print(a)"
   ]
  },
  {
   "cell_type": "code",
   "execution_count": 29,
   "id": "e20497c9",
   "metadata": {},
   "outputs": [
    {
     "name": "stdout",
     "output_type": "stream",
     "text": [
      "[1 2 4 5]\n"
     ]
    }
   ],
   "source": [
    "print(b)"
   ]
  },
  {
   "cell_type": "code",
   "execution_count": 30,
   "id": "58034565",
   "metadata": {},
   "outputs": [],
   "source": [
    "import numpy as np"
   ]
  },
  {
   "cell_type": "code",
   "execution_count": 31,
   "id": "57835a40",
   "metadata": {},
   "outputs": [],
   "source": [
    "A = np.random.rand(1000)"
   ]
  },
  {
   "cell_type": "code",
   "execution_count": 32,
   "id": "f7b9f72a",
   "metadata": {},
   "outputs": [
    {
     "name": "stdout",
     "output_type": "stream",
     "text": [
      "[6.46174236e-01 8.90233830e-01 1.77498994e-01 5.92138543e-01\n",
      " 4.72004313e-01 9.12934496e-01 6.79767460e-01 9.10278726e-01\n",
      " 3.59258911e-01 9.46365633e-01 5.40144445e-01 9.17867232e-01\n",
      " 8.39484525e-01 6.16795814e-01 2.13252894e-01 6.41682334e-01\n",
      " 3.14695186e-02 2.60793697e-01 1.83154714e-01 9.79427135e-01\n",
      " 2.45065304e-01 7.83894669e-01 9.47476783e-01 9.51609820e-01\n",
      " 5.17780319e-01 2.13986162e-01 3.42601550e-01 3.57706967e-01\n",
      " 9.39929248e-01 8.92851084e-01 5.53763868e-01 8.07035126e-01\n",
      " 7.56070694e-01 2.31854085e-01 6.65810647e-01 8.94428005e-02\n",
      " 4.30474049e-01 6.05474383e-01 7.62528858e-01 8.01866741e-01\n",
      " 1.44207770e-01 8.23888229e-01 5.78163736e-01 6.45125553e-01\n",
      " 2.92111771e-01 7.97384104e-01 6.02423891e-01 9.21820556e-01\n",
      " 3.27595838e-01 1.80690848e-01 3.87269701e-01 2.39217411e-01\n",
      " 5.08054980e-01 2.94934890e-01 8.21917779e-01 7.40446536e-01\n",
      " 4.94571734e-01 9.88458092e-01 5.99314641e-01 9.63071373e-01\n",
      " 7.78147579e-01 4.78101963e-01 9.62816317e-01 4.82219251e-03\n",
      " 6.79175121e-01 4.51269320e-01 9.05782223e-02 4.89997854e-01\n",
      " 4.34055239e-02 6.38690592e-01 8.78908595e-01 5.15735635e-01\n",
      " 8.34774336e-01 8.28167061e-02 5.36050691e-01 2.13585746e-01\n",
      " 6.59967194e-01 8.37288108e-01 5.96004795e-02 8.93705208e-01\n",
      " 6.88550618e-01 4.78917066e-02 8.45745347e-01 6.66905004e-01\n",
      " 5.50493915e-01 6.74319515e-01 5.84193079e-01 3.51717329e-01\n",
      " 9.19901655e-02 6.46372179e-01 2.51112959e-01 5.38440105e-01\n",
      " 4.60725280e-01 7.98746330e-01 2.59241559e-01 2.54886550e-01\n",
      " 7.85319094e-01 4.37380877e-01 2.11623460e-01 5.00117145e-01\n",
      " 8.31391153e-01 6.67709237e-01 5.99725183e-01 3.08142137e-01\n",
      " 1.49662623e-01 8.19474268e-01 2.36650689e-01 2.50829719e-01\n",
      " 6.62649796e-01 3.76186344e-01 3.65103306e-01 4.82295015e-01\n",
      " 4.49826774e-01 2.59616805e-01 2.38809647e-03 1.43598186e-01\n",
      " 7.23778837e-01 7.46528729e-01 7.94360601e-01 3.36584175e-01\n",
      " 8.72017138e-01 1.74808477e-01 1.92908631e-01 5.23952319e-01\n",
      " 3.50976148e-01 6.64091564e-01 5.76173628e-02 2.13675251e-01\n",
      " 6.73352723e-03 6.17921688e-01 6.13298466e-01 6.95776816e-01\n",
      " 4.99426167e-01 7.67896162e-01 9.44563140e-01 7.33246588e-01\n",
      " 3.15380116e-01 1.97034582e-01 3.51022062e-01 7.97801421e-01\n",
      " 4.29085180e-01 4.99655787e-01 9.60718515e-01 7.38661075e-02\n",
      " 2.51450863e-01 9.64114739e-01 6.31526357e-01 2.41806532e-01\n",
      " 7.27252351e-01 2.92558092e-01 2.87183505e-01 9.65331356e-01\n",
      " 9.28110666e-01 4.11569777e-01 1.89753927e-01 4.32466952e-01\n",
      " 4.64556013e-01 5.10386365e-02 2.68605627e-01 7.47092592e-01\n",
      " 1.34213258e-01 5.83882004e-01 4.51082369e-01 4.28240270e-02\n",
      " 6.34355996e-01 3.62873041e-01 7.47211799e-02 7.52721156e-01\n",
      " 7.21035258e-01 7.68549997e-01 4.07300923e-01 1.61693997e-01\n",
      " 5.76232173e-01 2.96708446e-01 4.40937207e-01 1.19079672e-01\n",
      " 5.61566326e-01 3.20774857e-01 3.74697817e-01 4.13687956e-01\n",
      " 9.85188933e-01 9.65695336e-01 9.22120817e-01 8.15951077e-01\n",
      " 4.11368545e-01 4.41034034e-01 6.81602364e-01 3.86320871e-01\n",
      " 7.08834203e-01 6.78958037e-01 7.38451433e-01 8.96200862e-01\n",
      " 3.71011975e-01 7.00029411e-01 6.86779422e-01 7.25862101e-01\n",
      " 4.96389001e-01 2.94745086e-01 7.43613007e-01 2.81782188e-01\n",
      " 9.72054596e-02 1.22688948e-01 4.32679016e-01 5.89956741e-01\n",
      " 1.41572836e-01 9.73280481e-02 6.24538575e-01 6.04834686e-01\n",
      " 7.19346418e-01 8.38478879e-02 9.38186552e-01 4.36966719e-01\n",
      " 1.84449554e-01 9.78936989e-01 1.45833462e-01 5.89929793e-01\n",
      " 1.08011178e-01 5.92382969e-01 6.52301059e-01 1.47454772e-01\n",
      " 4.35380272e-01 5.78307733e-02 9.15764717e-01 7.23359788e-01\n",
      " 1.94612201e-01 9.35496173e-01 7.46349757e-03 3.94859610e-01\n",
      " 2.01611076e-01 1.96694300e-01 7.50018447e-01 5.47639754e-01\n",
      " 8.51890267e-01 1.59560521e-01 4.04191622e-01 4.33266095e-01\n",
      " 2.21127260e-01 7.18718942e-01 4.39964731e-01 6.20201866e-01\n",
      " 2.18055686e-01 1.33851548e-01 5.92770650e-01 5.37122603e-01\n",
      " 1.25802165e-01 3.03842430e-01 2.77359232e-01 2.17733177e-01\n",
      " 7.74303841e-02 2.17736188e-01 6.35353705e-01 4.43827254e-01\n",
      " 2.90690629e-01 9.33099986e-01 2.67352859e-02 5.41287625e-01\n",
      " 3.04690533e-01 4.87269760e-01 7.19119697e-01 8.38449731e-01\n",
      " 5.70055557e-01 7.24554593e-01 9.43655541e-01 3.55284320e-01\n",
      " 6.73980548e-01 4.88893641e-01 4.32852143e-01 1.03787103e-01\n",
      " 3.31629059e-01 6.65031643e-01 3.43686008e-01 9.51472747e-01\n",
      " 9.35608364e-01 9.42598977e-01 7.26843048e-01 4.61759899e-01\n",
      " 6.58769493e-01 8.84971139e-01 8.33088813e-01 8.58942788e-02\n",
      " 9.34915110e-01 9.74064965e-01 2.92713502e-01 3.95831036e-01\n",
      " 5.92762337e-01 2.32670741e-01 6.89824310e-01 3.76781906e-04\n",
      " 6.03967505e-02 6.51796440e-01 1.21021838e-01 9.59510620e-01\n",
      " 9.95248504e-01 8.06357592e-01 4.82985840e-01 3.33564926e-02\n",
      " 6.11045379e-01 3.02820052e-01 7.82069173e-01 2.04257849e-01\n",
      " 2.97748454e-01 4.50762654e-01 7.72016554e-01 9.42328417e-01\n",
      " 2.54430911e-01 8.10051331e-01 8.47117153e-01 7.84082428e-01\n",
      " 2.84294380e-01 6.91079392e-01 2.38718081e-02 6.91624131e-01\n",
      " 2.63763689e-01 3.70321471e-01 8.46791521e-01 8.45143768e-02\n",
      " 7.94558635e-01 5.85207781e-01 5.45777356e-01 8.12763413e-01\n",
      " 1.04176845e-01 1.17726009e-01 8.03349453e-01 3.12246266e-02\n",
      " 4.72961813e-01 6.43922426e-01 7.45631151e-02 7.02383336e-01\n",
      " 3.76199241e-01 3.38217339e-01 7.08673298e-01 4.57491539e-01\n",
      " 4.80131590e-02 1.00805276e-01 8.34782786e-01 2.82263427e-01\n",
      " 5.12369040e-01 8.86359377e-01 4.99618542e-01 9.73630745e-01\n",
      " 6.12477722e-01 6.57944418e-01 7.66671611e-01 8.54211613e-01\n",
      " 8.19645509e-01 3.21265165e-01 2.31939881e-01 5.08240792e-01\n",
      " 8.61641908e-03 3.16741237e-01 1.41590354e-01 5.84188876e-01\n",
      " 7.20428540e-01 3.07495942e-01 7.68163568e-01 1.72733270e-01\n",
      " 4.93279770e-01 9.95800642e-01 9.74000087e-01 4.25298337e-01\n",
      " 6.34579753e-01 8.74267488e-01 5.27512748e-01 6.03934203e-01\n",
      " 7.75184362e-01 6.53851631e-01 6.42294894e-01 9.21254536e-01\n",
      " 6.60233739e-01 2.06280883e-01 6.95622557e-01 4.61149451e-01\n",
      " 1.28974736e-01 7.34765713e-01 3.34466737e-01 8.66527498e-01\n",
      " 6.76881699e-01 5.88602831e-01 2.26624413e-01 7.94093383e-01\n",
      " 4.18290404e-01 3.23616866e-01 9.56368749e-01 8.26975941e-01\n",
      " 9.34200425e-01 6.01947414e-02 7.33399714e-01 4.58263192e-02\n",
      " 8.36077911e-01 3.60748175e-01 9.12696813e-01 2.12198282e-01\n",
      " 3.30981965e-01 3.08677848e-01 4.07289880e-01 5.47235114e-01\n",
      " 7.65057331e-01 1.31302062e-01 8.59495366e-01 7.67115184e-01\n",
      " 6.03397562e-01 7.40572882e-01 4.42633992e-01 4.41772301e-01\n",
      " 4.97158199e-01 2.32857839e-01 1.69948331e-01 7.70011998e-01\n",
      " 2.73647777e-02 5.73455959e-01 8.22375976e-03 3.65922281e-01\n",
      " 4.84998587e-01 5.17905344e-01 1.35607046e-01 2.17489035e-01\n",
      " 9.11837687e-03 4.27464131e-01 6.04990627e-01 1.15356626e-01\n",
      " 3.59721602e-01 8.49275683e-01 5.97679379e-01 2.11430692e-01\n",
      " 8.89472449e-01 5.34260213e-01 3.37243355e-01 3.67854665e-01\n",
      " 8.25694111e-01 3.96616368e-01 6.06646506e-01 6.04683612e-01\n",
      " 9.09473357e-01 4.35108045e-01 2.96394715e-01 9.56232878e-02\n",
      " 8.21747766e-01 9.92659489e-01 5.84141978e-01 7.07106858e-01\n",
      " 7.79629763e-01 4.72477290e-01 6.73636250e-01 8.01143117e-01\n",
      " 2.78708776e-01 6.10415943e-01 3.78808328e-01 9.45442279e-01\n",
      " 1.40690471e-01 9.26986177e-01 5.90995163e-01 8.82977809e-01\n",
      " 4.55608188e-02 7.54626925e-01 6.10004373e-01 9.50056904e-01\n",
      " 7.03856491e-02 4.68708461e-01 8.61800153e-01 1.80230930e-01\n",
      " 3.47812003e-01 3.13775545e-01 9.95606468e-01 3.51811665e-01\n",
      " 2.61042733e-01 4.70974551e-01 6.63474181e-01 6.90644842e-01\n",
      " 3.36786841e-01 1.20937061e-01 5.93908828e-02 8.24224773e-01\n",
      " 7.32096781e-01 6.34007820e-02 5.23349102e-01 3.71721789e-02\n",
      " 3.55223983e-01 3.79313621e-01 1.63013509e-02 4.92265667e-01\n",
      " 9.63727349e-01 7.31535418e-01 2.52451264e-01 9.62118901e-01\n",
      " 4.73280544e-02 8.23098328e-01 4.67062173e-01 1.90304233e-02\n",
      " 9.20059201e-01 6.97693371e-01 4.14895213e-01 7.45141976e-01\n",
      " 2.56200494e-01 8.21998470e-01 7.08235705e-01 4.15935376e-01\n",
      " 2.24195737e-01 9.77531086e-01 4.76689940e-01 7.00650911e-01\n",
      " 6.48493652e-01 2.16788081e-01 8.06391091e-01 4.14507329e-01\n",
      " 3.89099314e-01 7.52509851e-03 3.18256119e-01 3.67265073e-01\n",
      " 8.43944732e-01 6.32354067e-01 3.74016693e-01 8.65583196e-01\n",
      " 5.94746999e-01 9.13243133e-01 2.38375391e-01 9.84356595e-01\n",
      " 4.07496598e-01 8.06678339e-01 2.94500792e-01 6.24554939e-01\n",
      " 8.29716708e-01 5.14172974e-01 6.94027941e-01 3.49873322e-01\n",
      " 8.82106012e-01 3.88190569e-01 1.29772700e-01 7.92037901e-01\n",
      " 3.48291695e-01 4.68878723e-01 5.23215335e-01 7.05008608e-02\n",
      " 9.35163969e-01 8.36073099e-01 2.10656156e-02 3.54507860e-01\n",
      " 9.19147642e-01 7.30955168e-01 8.94333856e-01 3.48978588e-01\n",
      " 7.98022649e-01 6.11278436e-01 9.22839617e-01 1.52746359e-01\n",
      " 4.46930562e-01 3.86571100e-01 2.45327669e-01 2.80022493e-01\n",
      " 5.84603093e-01 5.95456460e-01 5.23380246e-01 2.29887831e-01\n",
      " 9.40135183e-02 5.99011227e-01 1.34760455e-01 3.76222014e-01\n",
      " 9.32779255e-01 8.13802227e-01 4.96712517e-01 5.60494753e-01\n",
      " 5.10289691e-02 1.55254126e-01 9.31452616e-02 6.58444411e-01\n",
      " 4.44397392e-01 8.89941978e-01 9.39304666e-01 4.00142451e-01\n",
      " 1.58140077e-01 1.62417017e-01 4.47508632e-01 1.56719902e-01\n",
      " 1.21518993e-01 2.38705150e-01 4.62030503e-01 6.19705705e-01\n",
      " 8.10119465e-01 4.68662303e-01 3.50051070e-01 7.03043624e-01\n",
      " 8.85383378e-01 5.13230268e-01 7.87260910e-01 5.70760848e-01\n",
      " 7.76500418e-01 3.61581357e-01 6.02412240e-01 2.03485868e-01\n",
      " 5.44378782e-01 3.83588666e-01 2.70322501e-01 7.19144561e-03\n",
      " 3.45650239e-01 2.16985256e-01 2.46039701e-01 7.54591101e-01\n",
      " 3.74697645e-01 3.54144569e-01 1.70447493e-01 6.47852890e-01\n",
      " 7.74161050e-01 4.90623982e-01 3.82746808e-01 8.44686846e-01\n",
      " 7.81981375e-01 8.09077459e-01 7.01291017e-01 8.58430641e-01\n",
      " 2.43402656e-01 2.93095771e-01 6.06473806e-01 3.95228436e-01\n",
      " 6.06032852e-01 7.87240584e-01 5.46930831e-01 7.76939247e-01\n",
      " 3.75561528e-01 9.81738298e-01 9.04691243e-01 9.50160968e-01\n",
      " 4.82818148e-01 5.68455160e-01 7.79352967e-01 1.90624592e-01\n",
      " 9.72067782e-01 4.54787086e-01 4.58123784e-01 8.96808882e-01\n",
      " 3.70339141e-01 7.33238413e-01 9.01395113e-01 4.78093896e-01\n",
      " 3.07247282e-01 5.97742437e-01 8.98117590e-01 7.73530513e-01\n",
      " 4.39037144e-01 7.97133402e-01 4.69223376e-01 7.98033208e-01\n",
      " 9.94150528e-01 8.22399350e-01 3.18286055e-01 4.43011817e-01\n",
      " 8.20234801e-01 8.44613326e-01 7.85434817e-01 8.44109866e-01\n",
      " 9.93996900e-01 4.62658728e-01 6.25096625e-01 1.63029180e-01\n",
      " 7.02186498e-01 3.86009330e-01 3.51711349e-01 9.24271744e-01\n",
      " 7.73848175e-01 6.60419562e-01 1.17310026e-01 7.63054226e-01\n",
      " 8.27912861e-01 1.04130566e-01 8.28819051e-01 9.42606104e-01\n",
      " 4.46522580e-01 1.72303224e-01 1.89780904e-01 6.81315675e-01\n",
      " 9.39657837e-01 3.87237847e-01 6.73982711e-01 8.55492989e-01\n",
      " 1.53902379e-01 6.23892111e-01 6.71123706e-01 8.46637982e-01\n",
      " 9.65770894e-01 1.12136956e-01 7.13653382e-01 1.63556001e-01\n",
      " 1.95781089e-01 3.21132135e-01 9.51215183e-01 6.64039740e-01\n",
      " 1.23450702e-01 8.50223321e-01 1.27308357e-01 1.44111351e-01\n",
      " 6.01340761e-01 4.94196791e-01 1.35186271e-01 2.25811329e-01\n",
      " 9.49194153e-01 3.58463721e-01 9.77977993e-01 7.46122497e-01\n",
      " 4.29524493e-02 5.05457241e-01 6.37517620e-01 3.57374456e-01\n",
      " 7.12262540e-01 1.39623650e-01 6.35839109e-01 6.87327832e-01\n",
      " 6.56379471e-01 8.00644960e-01 7.50106658e-01 6.78926049e-01\n",
      " 4.33002496e-01 5.21521557e-01 2.93335055e-01 9.04326779e-01\n",
      " 8.95894899e-02 1.30315434e-01 1.08583461e-01 5.21568132e-01\n",
      " 7.49986735e-02 1.81590744e-01 9.15639492e-01 9.70441597e-01\n",
      " 2.55651422e-01 1.94308409e-01 4.31930972e-01 7.92969544e-01\n",
      " 4.37762054e-01 1.68021444e-01 1.68559538e-01 2.38700187e-02\n",
      " 9.25384815e-01 7.71075739e-01 7.37603091e-01 1.68904156e-01\n",
      " 8.84272915e-01 5.90141531e-01 8.12412658e-01 6.91160687e-01\n",
      " 4.01005988e-01 8.59323253e-01 8.14444212e-01 2.97128216e-01\n",
      " 5.40285729e-01 8.84091055e-01 2.61317819e-01 4.11129468e-01\n",
      " 5.67443530e-01 4.09038504e-01 1.53772239e-01 7.52612438e-01\n",
      " 7.97117965e-01 4.77958437e-01 1.38149827e-01 6.42362990e-02\n",
      " 3.88339562e-01 5.00960665e-01 2.07108176e-01 7.01730202e-01\n",
      " 9.02761938e-01 8.27778259e-01 8.49749433e-01 7.74316265e-01\n",
      " 9.43706824e-01 5.45841335e-01 9.05132824e-01 2.20552242e-01\n",
      " 4.61121358e-02 7.23895352e-01 4.92642303e-01 7.76843346e-01\n",
      " 1.59183742e-01 1.44881824e-01 2.02318323e-02 3.37303755e-01\n",
      " 2.08636392e-02 3.09645775e-01 9.86420255e-01 2.82285612e-01\n",
      " 4.45512126e-01 3.65988941e-01 7.51759174e-01 2.82850042e-01\n",
      " 4.02485595e-01 5.78011278e-01 4.90624045e-01 2.39171553e-01\n",
      " 4.70759455e-01 4.95499452e-01 9.50819728e-01 9.91344685e-01\n",
      " 2.83427479e-01 6.41048861e-01 7.56639278e-01 9.57168293e-02\n",
      " 3.28974360e-01 6.31257113e-02 2.27711756e-02 8.89359863e-01\n",
      " 2.09547911e-01 8.71182627e-01 4.51252503e-01 4.33017046e-01\n",
      " 9.14055246e-02 2.11361037e-02 1.54989954e-01 3.70582707e-01\n",
      " 5.64667044e-01 9.40735352e-01 5.39770133e-01 6.48733278e-01\n",
      " 7.59554231e-01 3.08408167e-01 3.99534413e-01 3.87182215e-01\n",
      " 1.83874442e-02 4.19433814e-01 3.58873701e-01 4.18239566e-01\n",
      " 9.10936764e-01 1.64515908e-01 2.51015838e-01 4.49136502e-01\n",
      " 9.81276838e-01 9.72096390e-02 8.13485542e-01 6.99013182e-01\n",
      " 4.36764516e-01 9.83857425e-01 4.96736501e-01 4.90769908e-01\n",
      " 7.66314906e-01 1.03108383e-01 4.26225592e-01 9.05397934e-01\n",
      " 8.10865819e-01 7.46824604e-01 9.67938538e-01 2.93394090e-01\n",
      " 2.95840973e-01 9.70475278e-01 9.43114195e-01 9.74210647e-01\n",
      " 1.92820522e-01 8.75613907e-01 7.94148441e-01 7.70281283e-01\n",
      " 9.71291381e-02 7.34790875e-02 6.73717414e-01 7.29725018e-01\n",
      " 1.54195209e-02 8.94095108e-02 1.39541602e-01 5.76463589e-01\n",
      " 8.90577935e-01 9.18818648e-01 4.39826468e-01 8.40152312e-01\n",
      " 1.67604129e-01 5.49958105e-01 8.49518896e-01 3.53820225e-01\n",
      " 9.40658858e-01 9.67596485e-01 7.21076416e-01 7.95484030e-01\n",
      " 1.73684169e-02 9.08135556e-01 7.02564514e-01 1.05883519e-01\n",
      " 6.10640555e-01 1.17324106e-01 1.18712408e-01 2.40848569e-01\n",
      " 1.28246204e-03 8.23625589e-01 9.83428190e-01 9.63511669e-01\n",
      " 3.56433460e-01 7.70093835e-01 5.78309469e-01 4.36421785e-01\n",
      " 8.11992588e-02 7.12085681e-01 1.40747479e-01 5.83167995e-02\n",
      " 8.93001585e-01 9.91503314e-01 5.62406781e-02 9.99224300e-02\n",
      " 9.14465484e-01 5.77601168e-01 8.12337113e-01 3.53273971e-01\n",
      " 1.27782875e-01 5.74535180e-01 1.08176484e-01 2.30077076e-01\n",
      " 6.47371628e-01 1.24424525e-01 8.06533370e-01 9.68899038e-01\n",
      " 6.49278817e-01 6.71919328e-02 7.53628138e-01 5.94493705e-01\n",
      " 9.50972931e-01 6.59747498e-01 6.36003581e-01 4.82630476e-01\n",
      " 3.20959476e-01 6.36223521e-01 3.09494919e-01 6.43144596e-01\n",
      " 9.60191853e-01 2.25644293e-01 6.90338854e-01 1.48999383e-02\n",
      " 7.18534078e-01 8.26305434e-01 3.57591516e-01 5.74077300e-01\n",
      " 2.83208858e-01 1.68248487e-01 1.89023566e-01 6.85311169e-01\n",
      " 8.63798511e-01 7.78631942e-01 8.30391899e-01 2.74241402e-01\n",
      " 7.12359540e-01 3.19867021e-01 6.23041045e-01 8.21712913e-01\n",
      " 9.51635776e-01 5.20675505e-01 4.43881339e-01 7.41991456e-01\n",
      " 9.92132336e-01 2.27894976e-01 6.71703996e-01 4.75499622e-01\n",
      " 7.72738432e-01 5.82895000e-01 7.38719675e-01 7.19736212e-01\n",
      " 2.98112922e-02 4.53112385e-01 7.31996084e-01 2.21086368e-01\n",
      " 3.12419551e-01 7.30866941e-01 6.23394635e-01 3.00241036e-01\n",
      " 1.20627155e-01 1.29210022e-02 8.03659815e-01 2.85695909e-01\n",
      " 2.80360571e-02 1.08648769e-01 5.57463506e-01 6.03676091e-01\n",
      " 5.86174726e-01 5.46529706e-01 5.37212697e-01 3.46998006e-01\n",
      " 8.70777412e-01 1.38655386e-01 9.92670027e-01 1.49937845e-01\n",
      " 7.12345951e-01 3.85565047e-01 7.49914634e-01 7.27760600e-02\n",
      " 4.44535693e-01 7.45520017e-01 3.00201697e-01 2.47819501e-01\n",
      " 1.24458134e-01 6.95788792e-01 5.96498876e-01 6.99140775e-01\n",
      " 6.83487035e-01 7.19430928e-01 8.82202627e-01 2.69270269e-01\n",
      " 8.19899482e-01 3.33421328e-01 8.43049683e-01 4.06103667e-01\n",
      " 3.10673072e-02 2.88950170e-01 7.89610763e-01 4.99364757e-01\n",
      " 6.46352747e-01 1.74569283e-02 2.03147419e-01 5.40347897e-01\n",
      " 8.48097824e-01 8.10327708e-01 4.49609933e-01 3.21861827e-01]\n"
     ]
    }
   ],
   "source": [
    "print(A)"
   ]
  },
  {
   "cell_type": "code",
   "execution_count": 33,
   "id": "8a9169ed",
   "metadata": {},
   "outputs": [],
   "source": [
    "import matplotlib.pyplot as plt"
   ]
  },
  {
   "cell_type": "code",
   "execution_count": 34,
   "id": "50023df5",
   "metadata": {},
   "outputs": [
    {
     "data": {
      "text/plain": [
       "(array([ 86.,  95.,  93., 101., 108.,  81., 107., 114., 108., 107.]),\n",
       " array([3.76781906e-04, 9.99191679e-02, 1.99461554e-01, 2.99003940e-01,\n",
       "        3.98546326e-01, 4.98088712e-01, 5.97631098e-01, 6.97173484e-01,\n",
       "        7.96715870e-01, 8.96258256e-01, 9.95800642e-01]),\n",
       " <BarContainer object of 10 artists>)"
      ]
     },
     "execution_count": 34,
     "metadata": {},
     "output_type": "execute_result"
    },
    {
     "data": {
      "image/png": "[encoded data removed]",
      "text/plain": [
       "<Figure size 432x288 with 1 Axes>"
      ]
     },
     "metadata": {
      "needs_background": "light"
     },
     "output_type": "display_data"
    }
   ],
   "source": [
    "plt.hist(A)"
   ]
  },
  {
   "cell_type": "code",
   "execution_count": 35,
   "id": "c4ad9543",
   "metadata": {},
   "outputs": [
    {
     "data": {
      "text/plain": [
       "(array([11.,  9., 10.,  5.,  9.,  8.,  6.,  9.,  8., 11., 11.,  7., 13.,\n",
       "        11., 11., 10., 10.,  6.,  6., 10.,  6., 14.,  8., 11.,  7.,  9.,\n",
       "         7.,  5., 11., 15., 10.,  8.,  8., 10.,  6., 19., 11., 11., 13.,\n",
       "         5.,  9., 10.,  4., 16., 16., 11.,  7., 14.,  6., 15.,  7.,  8.,\n",
       "         8.,  4., 13.,  4.,  4.,  9., 11., 13., 18.,  8.,  9.,  8., 12.,\n",
       "         8., 14.,  9.,  9., 12., 12.,  8., 15., 11., 12., 12.,  6., 16.,\n",
       "        12., 10., 15., 14., 15., 12., 10., 11.,  6.,  6.,  8., 11.,  8.,\n",
       "        10., 10.,  9., 14., 11., 13., 10., 10., 12.]),\n",
       " array([3.76781906e-04, 1.03310205e-02, 2.02852591e-02, 3.02394977e-02,\n",
       "        4.01937363e-02, 5.01479749e-02, 6.01022135e-02, 7.00564521e-02,\n",
       "        8.00106907e-02, 8.99649293e-02, 9.99191679e-02, 1.09873406e-01,\n",
       "        1.19827645e-01, 1.29781884e-01, 1.39736122e-01, 1.49690361e-01,\n",
       "        1.59644599e-01, 1.69598838e-01, 1.79553077e-01, 1.89507315e-01,\n",
       "        1.99461554e-01, 2.09415792e-01, 2.19370031e-01, 2.29324270e-01,\n",
       "        2.39278508e-01, 2.49232747e-01, 2.59186985e-01, 2.69141224e-01,\n",
       "        2.79095463e-01, 2.89049701e-01, 2.99003940e-01, 3.08958178e-01,\n",
       "        3.18912417e-01, 3.28866656e-01, 3.38820894e-01, 3.48775133e-01,\n",
       "        3.58729371e-01, 3.68683610e-01, 3.78637849e-01, 3.88592087e-01,\n",
       "        3.98546326e-01, 4.08500564e-01, 4.18454803e-01, 4.28409042e-01,\n",
       "        4.38363280e-01, 4.48317519e-01, 4.58271757e-01, 4.68225996e-01,\n",
       "        4.78180235e-01, 4.88134473e-01, 4.98088712e-01, 5.08042950e-01,\n",
       "        5.17997189e-01, 5.27951428e-01, 5.37905666e-01, 5.47859905e-01,\n",
       "        5.57814143e-01, 5.67768382e-01, 5.77722621e-01, 5.87676859e-01,\n",
       "        5.97631098e-01, 6.07585336e-01, 6.17539575e-01, 6.27493814e-01,\n",
       "        6.37448052e-01, 6.47402291e-01, 6.57356529e-01, 6.67310768e-01,\n",
       "        6.77265007e-01, 6.87219245e-01, 6.97173484e-01, 7.07127722e-01,\n",
       "        7.17081961e-01, 7.27036200e-01, 7.36990438e-01, 7.46944677e-01,\n",
       "        7.56898915e-01, 7.66853154e-01, 7.76807393e-01, 7.86761631e-01,\n",
       "        7.96715870e-01, 8.06670108e-01, 8.16624347e-01, 8.26578586e-01,\n",
       "        8.36532824e-01, 8.46487063e-01, 8.56441301e-01, 8.66395540e-01,\n",
       "        8.76349779e-01, 8.86304017e-01, 8.96258256e-01, 9.06212494e-01,\n",
       "        9.16166733e-01, 9.26120971e-01, 9.36075210e-01, 9.46029449e-01,\n",
       "        9.55983687e-01, 9.65937926e-01, 9.75892164e-01, 9.85846403e-01,\n",
       "        9.95800642e-01]),\n",
       " <BarContainer object of 100 artists>)"
      ]
     },
     "execution_count": 35,
     "metadata": {},
     "output_type": "execute_result"
    },
    {
     "data": {
      "image/png": "[encoded data removed]",
      "text/plain": [
       "<Figure size 432x288 with 1 Axes>"
      ]
     },
     "metadata": {
      "needs_background": "light"
     },
     "output_type": "display_data"
    }
   ],
   "source": [
    "plt.hist(A, bins=100)"
   ]
  },
  {
   "cell_type": "code",
   "execution_count": 36,
   "id": "0e2932a9",
   "metadata": {},
   "outputs": [],
   "source": [
    "B = np.random.randn(100000)"
   ]
  },
  {
   "cell_type": "code",
   "execution_count": 37,
   "id": "a1ced5f6",
   "metadata": {},
   "outputs": [
    {
     "data": {
      "text/plain": [
       "(array([1.000e+00, 0.000e+00, 1.000e+00, 0.000e+00, 0.000e+00, 1.000e+00,\n",
       "        1.000e+00, 0.000e+00, 0.000e+00, 5.000e+00, 2.000e+00, 3.000e+00,\n",
       "        0.000e+00, 1.000e+00, 0.000e+00, 2.000e+00, 2.000e+00, 3.000e+00,\n",
       "        1.000e+00, 5.000e+00, 4.000e+00, 5.000e+00, 1.400e+01, 4.000e+00,\n",
       "        9.000e+00, 1.100e+01, 2.000e+01, 1.500e+01, 1.200e+01, 1.600e+01,\n",
       "        2.100e+01, 2.400e+01, 2.500e+01, 2.700e+01, 3.300e+01, 3.500e+01,\n",
       "        3.100e+01, 5.200e+01, 4.600e+01, 5.800e+01, 6.900e+01, 7.000e+01,\n",
       "        9.500e+01, 9.300e+01, 9.500e+01, 1.190e+02, 1.400e+02, 1.400e+02,\n",
       "        1.360e+02, 1.540e+02, 1.940e+02, 1.780e+02, 2.120e+02, 2.520e+02,\n",
       "        2.520e+02, 2.600e+02, 2.830e+02, 3.380e+02, 3.570e+02, 3.680e+02,\n",
       "        4.440e+02, 4.470e+02, 4.830e+02, 5.250e+02, 5.400e+02, 6.170e+02,\n",
       "        5.970e+02, 6.520e+02, 7.050e+02, 7.430e+02, 7.320e+02, 8.120e+02,\n",
       "        8.390e+02, 9.400e+02, 9.640e+02, 9.610e+02, 9.910e+02, 1.111e+03,\n",
       "        1.139e+03, 1.176e+03, 1.221e+03, 1.269e+03, 1.321e+03, 1.298e+03,\n",
       "        1.369e+03, 1.450e+03, 1.428e+03, 1.464e+03, 1.596e+03, 1.583e+03,\n",
       "        1.562e+03, 1.635e+03, 1.704e+03, 1.700e+03, 1.689e+03, 1.755e+03,\n",
       "        1.719e+03, 1.754e+03, 1.754e+03, 1.675e+03, 1.782e+03, 1.706e+03,\n",
       "        1.662e+03, 1.776e+03, 1.634e+03, 1.662e+03, 1.624e+03, 1.641e+03,\n",
       "        1.610e+03, 1.649e+03, 1.571e+03, 1.581e+03, 1.449e+03, 1.378e+03,\n",
       "        1.464e+03, 1.339e+03, 1.300e+03, 1.258e+03, 1.251e+03, 1.222e+03,\n",
       "        1.155e+03, 1.077e+03, 1.122e+03, 1.068e+03, 9.150e+02, 9.250e+02,\n",
       "        8.960e+02, 8.100e+02, 7.960e+02, 7.760e+02, 7.090e+02, 6.530e+02,\n",
       "        5.960e+02, 5.610e+02, 5.460e+02, 5.360e+02, 4.950e+02, 4.130e+02,\n",
       "        4.150e+02, 3.820e+02, 3.590e+02, 3.470e+02, 2.920e+02, 3.060e+02,\n",
       "        2.640e+02, 2.410e+02, 2.220e+02, 2.080e+02, 1.840e+02, 1.540e+02,\n",
       "        1.350e+02, 1.210e+02, 1.120e+02, 1.110e+02, 9.100e+01, 9.900e+01,\n",
       "        6.200e+01, 8.300e+01, 5.800e+01, 6.200e+01, 5.700e+01, 4.700e+01,\n",
       "        3.100e+01, 2.900e+01, 2.600e+01, 2.800e+01, 2.900e+01, 1.900e+01,\n",
       "        1.900e+01, 1.800e+01, 1.600e+01, 1.000e+01, 1.300e+01, 1.200e+01,\n",
       "        8.000e+00, 8.000e+00, 3.000e+00, 7.000e+00, 7.000e+00, 4.000e+00,\n",
       "        5.000e+00, 5.000e+00, 5.000e+00, 4.000e+00, 2.000e+00, 3.000e+00,\n",
       "        0.000e+00, 3.000e+00, 0.000e+00, 0.000e+00, 5.000e+00, 0.000e+00,\n",
       "        0.000e+00, 0.000e+00, 0.000e+00, 0.000e+00, 1.000e+00, 0.000e+00,\n",
       "        0.000e+00, 1.000e+00]),\n",
       " array([-4.32590909, -4.28248291, -4.23905673, -4.19563055, -4.15220436,\n",
       "        -4.10877818, -4.065352  , -4.02192582, -3.97849963, -3.93507345,\n",
       "        -3.89164727, -3.84822109, -3.80479491, -3.76136872, -3.71794254,\n",
       "        -3.67451636, -3.63109018, -3.58766399, -3.54423781, -3.50081163,\n",
       "        -3.45738545, -3.41395926, -3.37053308, -3.3271069 , -3.28368072,\n",
       "        -3.24025454, -3.19682835, -3.15340217, -3.10997599, -3.06654981,\n",
       "        -3.02312362, -2.97969744, -2.93627126, -2.89284508, -2.84941889,\n",
       "        -2.80599271, -2.76256653, -2.71914035, -2.67571417, -2.63228798,\n",
       "        -2.5888618 , -2.54543562, -2.50200944, -2.45858325, -2.41515707,\n",
       "        -2.37173089, -2.32830471, -2.28487852, -2.24145234, -2.19802616,\n",
       "        -2.15459998, -2.1111738 , -2.06774761, -2.02432143, -1.98089525,\n",
       "        -1.93746907, -1.89404288, -1.8506167 , -1.80719052, -1.76376434,\n",
       "        -1.72033815, -1.67691197, -1.63348579, -1.59005961, -1.54663343,\n",
       "        -1.50320724, -1.45978106, -1.41635488, -1.3729287 , -1.32950251,\n",
       "        -1.28607633, -1.24265015, -1.19922397, -1.15579778, -1.1123716 ,\n",
       "        -1.06894542, -1.02551924, -0.98209306, -0.93866687, -0.89524069,\n",
       "        -0.85181451, -0.80838833, -0.76496214, -0.72153596, -0.67810978,\n",
       "        -0.6346836 , -0.59125741, -0.54783123, -0.50440505, -0.46097887,\n",
       "        -0.41755269, -0.3741265 , -0.33070032, -0.28727414, -0.24384796,\n",
       "        -0.20042177, -0.15699559, -0.11356941, -0.07014323, -0.02671704,\n",
       "         0.01670914,  0.06013532,  0.1035615 ,  0.14698768,  0.19041387,\n",
       "         0.23384005,  0.27726623,  0.32069241,  0.3641186 ,  0.40754478,\n",
       "         0.45097096,  0.49439714,  0.53782333,  0.58124951,  0.62467569,\n",
       "         0.66810187,  0.71152806,  0.75495424,  0.79838042,  0.8418066 ,\n",
       "         0.88523278,  0.92865897,  0.97208515,  1.01551133,  1.05893751,\n",
       "         1.1023637 ,  1.14578988,  1.18921606,  1.23264224,  1.27606843,\n",
       "         1.31949461,  1.36292079,  1.40634697,  1.44977315,  1.49319934,\n",
       "         1.53662552,  1.5800517 ,  1.62347788,  1.66690407,  1.71033025,\n",
       "         1.75375643,  1.79718261,  1.8406088 ,  1.88403498,  1.92746116,\n",
       "         1.97088734,  2.01431352,  2.05773971,  2.10116589,  2.14459207,\n",
       "         2.18801825,  2.23144444,  2.27487062,  2.3182968 ,  2.36172298,\n",
       "         2.40514917,  2.44857535,  2.49200153,  2.53542771,  2.57885389,\n",
       "         2.62228008,  2.66570626,  2.70913244,  2.75255862,  2.79598481,\n",
       "         2.83941099,  2.88283717,  2.92626335,  2.96968954,  3.01311572,\n",
       "         3.0565419 ,  3.09996808,  3.14339426,  3.18682045,  3.23024663,\n",
       "         3.27367281,  3.31709899,  3.36052518,  3.40395136,  3.44737754,\n",
       "         3.49080372,  3.53422991,  3.57765609,  3.62108227,  3.66450845,\n",
       "         3.70793463,  3.75136082,  3.794787  ,  3.83821318,  3.88163936,\n",
       "         3.92506555,  3.96849173,  4.01191791,  4.05534409,  4.09877028,\n",
       "         4.14219646,  4.18562264,  4.22904882,  4.272475  ,  4.31590119,\n",
       "         4.35932737]),\n",
       " <BarContainer object of 200 artists>)"
      ]
     },
     "execution_count": 37,
     "metadata": {},
     "output_type": "execute_result"
    },
    {
     "data": {
      "image/png": "[encoded data removed]",
      "text/plain": [
       "<Figure size 432x288 with 1 Axes>"
      ]
     },
     "metadata": {
      "needs_background": "light"
     },
     "output_type": "display_data"
    }
   ],
   "source": [
    "plt.hist(B, bins=200)"
   ]
  },
  {
   "cell_type": "code",
   "execution_count": 38,
   "id": "a255d550",
   "metadata": {},
   "outputs": [],
   "source": [
    "import pandas as pd"
   ]
  },
  {
   "cell_type": "code",
   "execution_count": 39,
   "id": "4dfd1677",
   "metadata": {},
   "outputs": [
    {
     "name": "stdout",
     "output_type": "stream",
     "text": [
      "1.2.4\n"
     ]
    }
   ],
   "source": [
    "print(pd.__version__)"
   ]
  },
  {
   "cell_type": "code",
   "execution_count": 40,
   "id": "7ec84a8d",
   "metadata": {},
   "outputs": [],
   "source": [
    "grads_dict = {'A': 4, 'B': 3.5, 'C': 3, 'D': 2.5}\n",
    "grads = pd.Series(grads_dict)"
   ]
  },
  {
   "cell_type": "code",
   "execution_count": 41,
   "id": "2a4aeaa3",
   "metadata": {},
   "outputs": [
    {
     "data": {
      "text/plain": [
       "array([4. , 3.5, 3. , 2.5])"
      ]
     },
     "execution_count": 41,
     "metadata": {},
     "output_type": "execute_result"
    }
   ],
   "source": [
    "grads.values"
   ]
  },
  {
   "cell_type": "code",
   "execution_count": 42,
   "id": "cbab3d30",
   "metadata": {},
   "outputs": [],
   "source": [
    "marks_dict = {'A': 85, 'B': 75, 'C': 65, 'D': 55}\n",
    "marks = pd.Series(marks_dict)"
   ]
  },
  {
   "cell_type": "code",
   "execution_count": 43,
   "id": "e4adf932",
   "metadata": {},
   "outputs": [
    {
     "data": {
      "text/plain": [
       "array([85, 75, 65, 55])"
      ]
     },
     "execution_count": 43,
     "metadata": {},
     "output_type": "execute_result"
    }
   ],
   "source": [
    "marks.values"
   ]
  },
  {
   "cell_type": "code",
   "execution_count": 44,
   "id": "778a44ef",
   "metadata": {},
   "outputs": [
    {
     "data": {
      "text/plain": [
       "A    85\n",
       "B    75\n",
       "C    65\n",
       "D    55\n",
       "dtype: int64"
      ]
     },
     "execution_count": 44,
     "metadata": {},
     "output_type": "execute_result"
    }
   ],
   "source": [
    "marks"
   ]
  },
  {
   "cell_type": "code",
   "execution_count": 45,
   "id": "bd6c2168",
   "metadata": {},
   "outputs": [
    {
     "data": {
      "text/plain": [
       "85"
      ]
     },
     "execution_count": 45,
     "metadata": {},
     "output_type": "execute_result"
    }
   ],
   "source": [
    "marks['A']"
   ]
  },
  {
   "cell_type": "code",
   "execution_count": 46,
   "id": "95436a7b",
   "metadata": {},
   "outputs": [
    {
     "data": {
      "text/plain": [
       "A    85\n",
       "B    75\n",
       "dtype: int64"
      ]
     },
     "execution_count": 46,
     "metadata": {},
     "output_type": "execute_result"
    }
   ],
   "source": [
    "marks[0:2]"
   ]
  },
  {
   "cell_type": "code",
   "execution_count": 47,
   "id": "346891a9",
   "metadata": {},
   "outputs": [
    {
     "data": {
      "text/plain": [
       "A    85\n",
       "B    75\n",
       "C    65\n",
       "D    55\n",
       "dtype: int64"
      ]
     },
     "execution_count": 47,
     "metadata": {},
     "output_type": "execute_result"
    }
   ],
   "source": [
    "marks"
   ]
  },
  {
   "cell_type": "code",
   "execution_count": 48,
   "id": "1b4f3b6a",
   "metadata": {},
   "outputs": [
    {
     "data": {
      "text/plain": [
       "A    4.0\n",
       "B    3.5\n",
       "C    3.0\n",
       "D    2.5\n",
       "dtype: float64"
      ]
     },
     "execution_count": 48,
     "metadata": {},
     "output_type": "execute_result"
    }
   ],
   "source": [
    "grads"
   ]
  },
  {
   "cell_type": "code",
   "execution_count": 49,
   "id": "8f8fd3c3",
   "metadata": {},
   "outputs": [],
   "source": [
    "D = pd.DataFrame({'Marks': marks, 'Grades': grads})"
   ]
  },
  {
   "cell_type": "code",
   "execution_count": 50,
   "id": "6fb16124",
   "metadata": {},
   "outputs": [
    {
     "data": {
      "text/html": [
       "<div>\n",
       "<style scoped>\n",
       "    .dataframe tbody tr th:only-of-type {\n",
       "        vertical-align: middle;\n",
       "    }\n",
       "\n",
       "    .dataframe tbody tr th {\n",
       "        vertical-align: top;\n",
       "    }\n",
       "\n",
       "    .dataframe thead th {\n",
       "        text-align: right;\n",
       "    }\n",
       "</style>\n",
       "<table border=\"1\" class=\"dataframe\">\n",
       "  <thead>\n",
       "    <tr style=\"text-align: right;\">\n",
       "      <th></th>\n",
       "      <th>Marks</th>\n",
       "      <th>Grades</th>\n",
       "    </tr>\n",
       "  </thead>\n",
       "  <tbody>\n",
       "    <tr>\n",
       "      <th>A</th>\n",
       "      <td>85</td>\n",
       "      <td>4.0</td>\n",
       "    </tr>\n",
       "    <tr>\n",
       "      <th>B</th>\n",
       "      <td>75</td>\n",
       "      <td>3.5</td>\n",
       "    </tr>\n",
       "    <tr>\n",
       "      <th>C</th>\n",
       "      <td>65</td>\n",
       "      <td>3.0</td>\n",
       "    </tr>\n",
       "    <tr>\n",
       "      <th>D</th>\n",
       "      <td>55</td>\n",
       "      <td>2.5</td>\n",
       "    </tr>\n",
       "  </tbody>\n",
       "</table>\n",
       "</div>"
      ],
      "text/plain": [
       "   Marks  Grades\n",
       "A     85     4.0\n",
       "B     75     3.5\n",
       "C     65     3.0\n",
       "D     55     2.5"
      ]
     },
     "execution_count": 50,
     "metadata": {},
     "output_type": "execute_result"
    }
   ],
   "source": [
    "D"
   ]
  },
  {
   "cell_type": "code",
   "execution_count": 51,
   "id": "7104fd67",
   "metadata": {},
   "outputs": [
    {
     "data": {
      "text/html": [
       "<div>\n",
       "<style scoped>\n",
       "    .dataframe tbody tr th:only-of-type {\n",
       "        vertical-align: middle;\n",
       "    }\n",
       "\n",
       "    .dataframe tbody tr th {\n",
       "        vertical-align: top;\n",
       "    }\n",
       "\n",
       "    .dataframe thead th {\n",
       "        text-align: right;\n",
       "    }\n",
       "</style>\n",
       "<table border=\"1\" class=\"dataframe\">\n",
       "  <thead>\n",
       "    <tr style=\"text-align: right;\">\n",
       "      <th></th>\n",
       "      <th>A</th>\n",
       "      <th>B</th>\n",
       "      <th>C</th>\n",
       "      <th>D</th>\n",
       "    </tr>\n",
       "  </thead>\n",
       "  <tbody>\n",
       "    <tr>\n",
       "      <th>Marks</th>\n",
       "      <td>85.0</td>\n",
       "      <td>75.0</td>\n",
       "      <td>65.0</td>\n",
       "      <td>55.0</td>\n",
       "    </tr>\n",
       "    <tr>\n",
       "      <th>Grades</th>\n",
       "      <td>4.0</td>\n",
       "      <td>3.5</td>\n",
       "      <td>3.0</td>\n",
       "      <td>2.5</td>\n",
       "    </tr>\n",
       "  </tbody>\n",
       "</table>\n",
       "</div>"
      ],
      "text/plain": [
       "           A     B     C     D\n",
       "Marks   85.0  75.0  65.0  55.0\n",
       "Grades   4.0   3.5   3.0   2.5"
      ]
     },
     "execution_count": 51,
     "metadata": {},
     "output_type": "execute_result"
    }
   ],
   "source": [
    "D.T"
   ]
  },
  {
   "cell_type": "code",
   "execution_count": 52,
   "id": "8869d23e",
   "metadata": {},
   "outputs": [
    {
     "data": {
      "text/plain": [
       "array([[85. ,  4. ],\n",
       "       [75. ,  3.5],\n",
       "       [65. ,  3. ],\n",
       "       [55. ,  2.5]])"
      ]
     },
     "execution_count": 52,
     "metadata": {},
     "output_type": "execute_result"
    }
   ],
   "source": [
    "D.values"
   ]
  },
  {
   "cell_type": "code",
   "execution_count": 53,
   "id": "a5d148f2",
   "metadata": {},
   "outputs": [
    {
     "data": {
      "text/plain": [
       "65.0"
      ]
     },
     "execution_count": 53,
     "metadata": {},
     "output_type": "execute_result"
    }
   ],
   "source": [
    "D.values[2,0]"
   ]
  },
  {
   "cell_type": "code",
   "execution_count": 54,
   "id": "01a19940",
   "metadata": {},
   "outputs": [],
   "source": [
    "D['ScaledMarks'] = 100*(D['Marks']/90)"
   ]
  },
  {
   "cell_type": "code",
   "execution_count": 55,
   "id": "733476ba",
   "metadata": {},
   "outputs": [
    {
     "data": {
      "text/html": [
       "<div>\n",
       "<style scoped>\n",
       "    .dataframe tbody tr th:only-of-type {\n",
       "        vertical-align: middle;\n",
       "    }\n",
       "\n",
       "    .dataframe tbody tr th {\n",
       "        vertical-align: top;\n",
       "    }\n",
       "\n",
       "    .dataframe thead th {\n",
       "        text-align: right;\n",
       "    }\n",
       "</style>\n",
       "<table border=\"1\" class=\"dataframe\">\n",
       "  <thead>\n",
       "    <tr style=\"text-align: right;\">\n",
       "      <th></th>\n",
       "      <th>Marks</th>\n",
       "      <th>Grades</th>\n",
       "      <th>ScaledMarks</th>\n",
       "    </tr>\n",
       "  </thead>\n",
       "  <tbody>\n",
       "    <tr>\n",
       "      <th>A</th>\n",
       "      <td>85</td>\n",
       "      <td>4.0</td>\n",
       "      <td>94.444444</td>\n",
       "    </tr>\n",
       "    <tr>\n",
       "      <th>B</th>\n",
       "      <td>75</td>\n",
       "      <td>3.5</td>\n",
       "      <td>83.333333</td>\n",
       "    </tr>\n",
       "    <tr>\n",
       "      <th>C</th>\n",
       "      <td>65</td>\n",
       "      <td>3.0</td>\n",
       "      <td>72.222222</td>\n",
       "    </tr>\n",
       "    <tr>\n",
       "      <th>D</th>\n",
       "      <td>55</td>\n",
       "      <td>2.5</td>\n",
       "      <td>61.111111</td>\n",
       "    </tr>\n",
       "  </tbody>\n",
       "</table>\n",
       "</div>"
      ],
      "text/plain": [
       "   Marks  Grades  ScaledMarks\n",
       "A     85     4.0    94.444444\n",
       "B     75     3.5    83.333333\n",
       "C     65     3.0    72.222222\n",
       "D     55     2.5    61.111111"
      ]
     },
     "execution_count": 55,
     "metadata": {},
     "output_type": "execute_result"
    }
   ],
   "source": [
    "D"
   ]
  },
  {
   "cell_type": "code",
   "execution_count": 56,
   "id": "262db4aa",
   "metadata": {},
   "outputs": [],
   "source": [
    "D['Additional'] = .9*(D['Marks'])"
   ]
  },
  {
   "cell_type": "code",
   "execution_count": 57,
   "id": "6c0174ec",
   "metadata": {},
   "outputs": [
    {
     "data": {
      "text/html": [
       "<div>\n",
       "<style scoped>\n",
       "    .dataframe tbody tr th:only-of-type {\n",
       "        vertical-align: middle;\n",
       "    }\n",
       "\n",
       "    .dataframe tbody tr th {\n",
       "        vertical-align: top;\n",
       "    }\n",
       "\n",
       "    .dataframe thead th {\n",
       "        text-align: right;\n",
       "    }\n",
       "</style>\n",
       "<table border=\"1\" class=\"dataframe\">\n",
       "  <thead>\n",
       "    <tr style=\"text-align: right;\">\n",
       "      <th></th>\n",
       "      <th>Marks</th>\n",
       "      <th>Grades</th>\n",
       "      <th>ScaledMarks</th>\n",
       "      <th>Additional</th>\n",
       "    </tr>\n",
       "  </thead>\n",
       "  <tbody>\n",
       "    <tr>\n",
       "      <th>A</th>\n",
       "      <td>85</td>\n",
       "      <td>4.0</td>\n",
       "      <td>94.444444</td>\n",
       "      <td>76.5</td>\n",
       "    </tr>\n",
       "    <tr>\n",
       "      <th>B</th>\n",
       "      <td>75</td>\n",
       "      <td>3.5</td>\n",
       "      <td>83.333333</td>\n",
       "      <td>67.5</td>\n",
       "    </tr>\n",
       "    <tr>\n",
       "      <th>C</th>\n",
       "      <td>65</td>\n",
       "      <td>3.0</td>\n",
       "      <td>72.222222</td>\n",
       "      <td>58.5</td>\n",
       "    </tr>\n",
       "    <tr>\n",
       "      <th>D</th>\n",
       "      <td>55</td>\n",
       "      <td>2.5</td>\n",
       "      <td>61.111111</td>\n",
       "      <td>49.5</td>\n",
       "    </tr>\n",
       "  </tbody>\n",
       "</table>\n",
       "</div>"
      ],
      "text/plain": [
       "   Marks  Grades  ScaledMarks  Additional\n",
       "A     85     4.0    94.444444        76.5\n",
       "B     75     3.5    83.333333        67.5\n",
       "C     65     3.0    72.222222        58.5\n",
       "D     55     2.5    61.111111        49.5"
      ]
     },
     "execution_count": 57,
     "metadata": {},
     "output_type": "execute_result"
    }
   ],
   "source": [
    "D"
   ]
  },
  {
   "cell_type": "code",
   "execution_count": 58,
   "id": "297345dd",
   "metadata": {},
   "outputs": [],
   "source": [
    "del(D['Additional'])"
   ]
  },
  {
   "cell_type": "code",
   "execution_count": 59,
   "id": "dca5dbc0",
   "metadata": {},
   "outputs": [
    {
     "data": {
      "text/html": [
       "<div>\n",
       "<style scoped>\n",
       "    .dataframe tbody tr th:only-of-type {\n",
       "        vertical-align: middle;\n",
       "    }\n",
       "\n",
       "    .dataframe tbody tr th {\n",
       "        vertical-align: top;\n",
       "    }\n",
       "\n",
       "    .dataframe thead th {\n",
       "        text-align: right;\n",
       "    }\n",
       "</style>\n",
       "<table border=\"1\" class=\"dataframe\">\n",
       "  <thead>\n",
       "    <tr style=\"text-align: right;\">\n",
       "      <th></th>\n",
       "      <th>Marks</th>\n",
       "      <th>Grades</th>\n",
       "      <th>ScaledMarks</th>\n",
       "    </tr>\n",
       "  </thead>\n",
       "  <tbody>\n",
       "    <tr>\n",
       "      <th>A</th>\n",
       "      <td>85</td>\n",
       "      <td>4.0</td>\n",
       "      <td>94.444444</td>\n",
       "    </tr>\n",
       "    <tr>\n",
       "      <th>B</th>\n",
       "      <td>75</td>\n",
       "      <td>3.5</td>\n",
       "      <td>83.333333</td>\n",
       "    </tr>\n",
       "    <tr>\n",
       "      <th>C</th>\n",
       "      <td>65</td>\n",
       "      <td>3.0</td>\n",
       "      <td>72.222222</td>\n",
       "    </tr>\n",
       "    <tr>\n",
       "      <th>D</th>\n",
       "      <td>55</td>\n",
       "      <td>2.5</td>\n",
       "      <td>61.111111</td>\n",
       "    </tr>\n",
       "  </tbody>\n",
       "</table>\n",
       "</div>"
      ],
      "text/plain": [
       "   Marks  Grades  ScaledMarks\n",
       "A     85     4.0    94.444444\n",
       "B     75     3.5    83.333333\n",
       "C     65     3.0    72.222222\n",
       "D     55     2.5    61.111111"
      ]
     },
     "execution_count": 59,
     "metadata": {},
     "output_type": "execute_result"
    }
   ],
   "source": [
    "D"
   ]
  },
  {
   "cell_type": "code",
   "execution_count": 60,
   "id": "d4154cdd",
   "metadata": {},
   "outputs": [],
   "source": [
    "G =  D[D['Marks'] > 70] # get marks greater than 70."
   ]
  },
  {
   "cell_type": "code",
   "execution_count": 61,
   "id": "ff9c92e8",
   "metadata": {},
   "outputs": [
    {
     "data": {
      "text/html": [
       "<div>\n",
       "<style scoped>\n",
       "    .dataframe tbody tr th:only-of-type {\n",
       "        vertical-align: middle;\n",
       "    }\n",
       "\n",
       "    .dataframe tbody tr th {\n",
       "        vertical-align: top;\n",
       "    }\n",
       "\n",
       "    .dataframe thead th {\n",
       "        text-align: right;\n",
       "    }\n",
       "</style>\n",
       "<table border=\"1\" class=\"dataframe\">\n",
       "  <thead>\n",
       "    <tr style=\"text-align: right;\">\n",
       "      <th></th>\n",
       "      <th>Marks</th>\n",
       "      <th>Grades</th>\n",
       "      <th>ScaledMarks</th>\n",
       "    </tr>\n",
       "  </thead>\n",
       "  <tbody>\n",
       "    <tr>\n",
       "      <th>A</th>\n",
       "      <td>85</td>\n",
       "      <td>4.0</td>\n",
       "      <td>94.444444</td>\n",
       "    </tr>\n",
       "    <tr>\n",
       "      <th>B</th>\n",
       "      <td>75</td>\n",
       "      <td>3.5</td>\n",
       "      <td>83.333333</td>\n",
       "    </tr>\n",
       "  </tbody>\n",
       "</table>\n",
       "</div>"
      ],
      "text/plain": [
       "   Marks  Grades  ScaledMarks\n",
       "A     85     4.0    94.444444\n",
       "B     75     3.5    83.333333"
      ]
     },
     "execution_count": 61,
     "metadata": {},
     "output_type": "execute_result"
    }
   ],
   "source": [
    "G"
   ]
  },
  {
   "cell_type": "code",
   "execution_count": 62,
   "id": "37a171fa",
   "metadata": {},
   "outputs": [
    {
     "data": {
      "text/plain": [
       "array([6.46174236e-01, 8.90233830e-01, 1.77498994e-01, 5.92138543e-01,\n",
       "       4.72004313e-01, 9.12934496e-01, 6.79767460e-01, 9.10278726e-01,\n",
       "       3.59258911e-01, 9.46365633e-01, 5.40144445e-01, 9.17867232e-01,\n",
       "       8.39484525e-01, 6.16795814e-01, 2.13252894e-01, 6.41682334e-01,\n",
       "       3.14695186e-02, 2.60793697e-01, 1.83154714e-01, 9.79427135e-01,\n",
       "       2.45065304e-01, 7.83894669e-01, 9.47476783e-01, 9.51609820e-01,\n",
       "       5.17780319e-01, 2.13986162e-01, 3.42601550e-01, 3.57706967e-01,\n",
       "       9.39929248e-01, 8.92851084e-01, 5.53763868e-01, 8.07035126e-01,\n",
       "       7.56070694e-01, 2.31854085e-01, 6.65810647e-01, 8.94428005e-02,\n",
       "       4.30474049e-01, 6.05474383e-01, 7.62528858e-01, 8.01866741e-01,\n",
       "       1.44207770e-01, 8.23888229e-01, 5.78163736e-01, 6.45125553e-01,\n",
       "       2.92111771e-01, 7.97384104e-01, 6.02423891e-01, 9.21820556e-01,\n",
       "       3.27595838e-01, 1.80690848e-01, 3.87269701e-01, 2.39217411e-01,\n",
       "       5.08054980e-01, 2.94934890e-01, 8.21917779e-01, 7.40446536e-01,\n",
       "       4.94571734e-01, 9.88458092e-01, 5.99314641e-01, 9.63071373e-01,\n",
       "       7.78147579e-01, 4.78101963e-01, 9.62816317e-01, 4.82219251e-03,\n",
       "       6.79175121e-01, 4.51269320e-01, 9.05782223e-02, 4.89997854e-01,\n",
       "       4.34055239e-02, 6.38690592e-01, 8.78908595e-01, 5.15735635e-01,\n",
       "       8.34774336e-01, 8.28167061e-02, 5.36050691e-01, 2.13585746e-01,\n",
       "       6.59967194e-01, 8.37288108e-01, 5.96004795e-02, 8.93705208e-01,\n",
       "       6.88550618e-01, 4.78917066e-02, 8.45745347e-01, 6.66905004e-01,\n",
       "       5.50493915e-01, 6.74319515e-01, 5.84193079e-01, 3.51717329e-01,\n",
       "       9.19901655e-02, 6.46372179e-01, 2.51112959e-01, 5.38440105e-01,\n",
       "       4.60725280e-01, 7.98746330e-01, 2.59241559e-01, 2.54886550e-01,\n",
       "       7.85319094e-01, 4.37380877e-01, 2.11623460e-01, 5.00117145e-01,\n",
       "       8.31391153e-01, 6.67709237e-01, 5.99725183e-01, 3.08142137e-01,\n",
       "       1.49662623e-01, 8.19474268e-01, 2.36650689e-01, 2.50829719e-01,\n",
       "       6.62649796e-01, 3.76186344e-01, 3.65103306e-01, 4.82295015e-01,\n",
       "       4.49826774e-01, 2.59616805e-01, 2.38809647e-03, 1.43598186e-01,\n",
       "       7.23778837e-01, 7.46528729e-01, 7.94360601e-01, 3.36584175e-01,\n",
       "       8.72017138e-01, 1.74808477e-01, 1.92908631e-01, 5.23952319e-01,\n",
       "       3.50976148e-01, 6.64091564e-01, 5.76173628e-02, 2.13675251e-01,\n",
       "       6.73352723e-03, 6.17921688e-01, 6.13298466e-01, 6.95776816e-01,\n",
       "       4.99426167e-01, 7.67896162e-01, 9.44563140e-01, 7.33246588e-01,\n",
       "       3.15380116e-01, 1.97034582e-01, 3.51022062e-01, 7.97801421e-01,\n",
       "       4.29085180e-01, 4.99655787e-01, 9.60718515e-01, 7.38661075e-02,\n",
       "       2.51450863e-01, 9.64114739e-01, 6.31526357e-01, 2.41806532e-01,\n",
       "       7.27252351e-01, 2.92558092e-01, 2.87183505e-01, 9.65331356e-01,\n",
       "       9.28110666e-01, 4.11569777e-01, 1.89753927e-01, 4.32466952e-01,\n",
       "       4.64556013e-01, 5.10386365e-02, 2.68605627e-01, 7.47092592e-01,\n",
       "       1.34213258e-01, 5.83882004e-01, 4.51082369e-01, 4.28240270e-02,\n",
       "       6.34355996e-01, 3.62873041e-01, 7.47211799e-02, 7.52721156e-01,\n",
       "       7.21035258e-01, 7.68549997e-01, 4.07300923e-01, 1.61693997e-01,\n",
       "       5.76232173e-01, 2.96708446e-01, 4.40937207e-01, 1.19079672e-01,\n",
       "       5.61566326e-01, 3.20774857e-01, 3.74697817e-01, 4.13687956e-01,\n",
       "       9.85188933e-01, 9.65695336e-01, 9.22120817e-01, 8.15951077e-01,\n",
       "       4.11368545e-01, 4.41034034e-01, 6.81602364e-01, 3.86320871e-01,\n",
       "       7.08834203e-01, 6.78958037e-01, 7.38451433e-01, 8.96200862e-01,\n",
       "       3.71011975e-01, 7.00029411e-01, 6.86779422e-01, 7.25862101e-01,\n",
       "       4.96389001e-01, 2.94745086e-01, 7.43613007e-01, 2.81782188e-01,\n",
       "       9.72054596e-02, 1.22688948e-01, 4.32679016e-01, 5.89956741e-01,\n",
       "       1.41572836e-01, 9.73280481e-02, 6.24538575e-01, 6.04834686e-01,\n",
       "       7.19346418e-01, 8.38478879e-02, 9.38186552e-01, 4.36966719e-01,\n",
       "       1.84449554e-01, 9.78936989e-01, 1.45833462e-01, 5.89929793e-01,\n",
       "       1.08011178e-01, 5.92382969e-01, 6.52301059e-01, 1.47454772e-01,\n",
       "       4.35380272e-01, 5.78307733e-02, 9.15764717e-01, 7.23359788e-01,\n",
       "       1.94612201e-01, 9.35496173e-01, 7.46349757e-03, 3.94859610e-01,\n",
       "       2.01611076e-01, 1.96694300e-01, 7.50018447e-01, 5.47639754e-01,\n",
       "       8.51890267e-01, 1.59560521e-01, 4.04191622e-01, 4.33266095e-01,\n",
       "       2.21127260e-01, 7.18718942e-01, 4.39964731e-01, 6.20201866e-01,\n",
       "       2.18055686e-01, 1.33851548e-01, 5.92770650e-01, 5.37122603e-01,\n",
       "       1.25802165e-01, 3.03842430e-01, 2.77359232e-01, 2.17733177e-01,\n",
       "       7.74303841e-02, 2.17736188e-01, 6.35353705e-01, 4.43827254e-01,\n",
       "       2.90690629e-01, 9.33099986e-01, 2.67352859e-02, 5.41287625e-01,\n",
       "       3.04690533e-01, 4.87269760e-01, 7.19119697e-01, 8.38449731e-01,\n",
       "       5.70055557e-01, 7.24554593e-01, 9.43655541e-01, 3.55284320e-01,\n",
       "       6.73980548e-01, 4.88893641e-01, 4.32852143e-01, 1.03787103e-01,\n",
       "       3.31629059e-01, 6.65031643e-01, 3.43686008e-01, 9.51472747e-01,\n",
       "       9.35608364e-01, 9.42598977e-01, 7.26843048e-01, 4.61759899e-01,\n",
       "       6.58769493e-01, 8.84971139e-01, 8.33088813e-01, 8.58942788e-02,\n",
       "       9.34915110e-01, 9.74064965e-01, 2.92713502e-01, 3.95831036e-01,\n",
       "       5.92762337e-01, 2.32670741e-01, 6.89824310e-01, 3.76781906e-04,\n",
       "       6.03967505e-02, 6.51796440e-01, 1.21021838e-01, 9.59510620e-01,\n",
       "       9.95248504e-01, 8.06357592e-01, 4.82985840e-01, 3.33564926e-02,\n",
       "       6.11045379e-01, 3.02820052e-01, 7.82069173e-01, 2.04257849e-01,\n",
       "       2.97748454e-01, 4.50762654e-01, 7.72016554e-01, 9.42328417e-01,\n",
       "       2.54430911e-01, 8.10051331e-01, 8.47117153e-01, 7.84082428e-01,\n",
       "       2.84294380e-01, 6.91079392e-01, 2.38718081e-02, 6.91624131e-01,\n",
       "       2.63763689e-01, 3.70321471e-01, 8.46791521e-01, 8.45143768e-02,\n",
       "       7.94558635e-01, 5.85207781e-01, 5.45777356e-01, 8.12763413e-01,\n",
       "       1.04176845e-01, 1.17726009e-01, 8.03349453e-01, 3.12246266e-02,\n",
       "       4.72961813e-01, 6.43922426e-01, 7.45631151e-02, 7.02383336e-01,\n",
       "       3.76199241e-01, 3.38217339e-01, 7.08673298e-01, 4.57491539e-01,\n",
       "       4.80131590e-02, 1.00805276e-01, 8.34782786e-01, 2.82263427e-01,\n",
       "       5.12369040e-01, 8.86359377e-01, 4.99618542e-01, 9.73630745e-01,\n",
       "       6.12477722e-01, 6.57944418e-01, 7.66671611e-01, 8.54211613e-01,\n",
       "       8.19645509e-01, 3.21265165e-01, 2.31939881e-01, 5.08240792e-01,\n",
       "       8.61641908e-03, 3.16741237e-01, 1.41590354e-01, 5.84188876e-01,\n",
       "       7.20428540e-01, 3.07495942e-01, 7.68163568e-01, 1.72733270e-01,\n",
       "       4.93279770e-01, 9.95800642e-01, 9.74000087e-01, 4.25298337e-01,\n",
       "       6.34579753e-01, 8.74267488e-01, 5.27512748e-01, 6.03934203e-01,\n",
       "       7.75184362e-01, 6.53851631e-01, 6.42294894e-01, 9.21254536e-01,\n",
       "       6.60233739e-01, 2.06280883e-01, 6.95622557e-01, 4.61149451e-01,\n",
       "       1.28974736e-01, 7.34765713e-01, 3.34466737e-01, 8.66527498e-01,\n",
       "       6.76881699e-01, 5.88602831e-01, 2.26624413e-01, 7.94093383e-01,\n",
       "       4.18290404e-01, 3.23616866e-01, 9.56368749e-01, 8.26975941e-01,\n",
       "       9.34200425e-01, 6.01947414e-02, 7.33399714e-01, 4.58263192e-02,\n",
       "       8.36077911e-01, 3.60748175e-01, 9.12696813e-01, 2.12198282e-01,\n",
       "       3.30981965e-01, 3.08677848e-01, 4.07289880e-01, 5.47235114e-01,\n",
       "       7.65057331e-01, 1.31302062e-01, 8.59495366e-01, 7.67115184e-01,\n",
       "       6.03397562e-01, 7.40572882e-01, 4.42633992e-01, 4.41772301e-01,\n",
       "       4.97158199e-01, 2.32857839e-01, 1.69948331e-01, 7.70011998e-01,\n",
       "       2.73647777e-02, 5.73455959e-01, 8.22375976e-03, 3.65922281e-01,\n",
       "       4.84998587e-01, 5.17905344e-01, 1.35607046e-01, 2.17489035e-01,\n",
       "       9.11837687e-03, 4.27464131e-01, 6.04990627e-01, 1.15356626e-01,\n",
       "       3.59721602e-01, 8.49275683e-01, 5.97679379e-01, 2.11430692e-01,\n",
       "       8.89472449e-01, 5.34260213e-01, 3.37243355e-01, 3.67854665e-01,\n",
       "       8.25694111e-01, 3.96616368e-01, 6.06646506e-01, 6.04683612e-01,\n",
       "       9.09473357e-01, 4.35108045e-01, 2.96394715e-01, 9.56232878e-02,\n",
       "       8.21747766e-01, 9.92659489e-01, 5.84141978e-01, 7.07106858e-01,\n",
       "       7.79629763e-01, 4.72477290e-01, 6.73636250e-01, 8.01143117e-01,\n",
       "       2.78708776e-01, 6.10415943e-01, 3.78808328e-01, 9.45442279e-01,\n",
       "       1.40690471e-01, 9.26986177e-01, 5.90995163e-01, 8.82977809e-01,\n",
       "       4.55608188e-02, 7.54626925e-01, 6.10004373e-01, 9.50056904e-01,\n",
       "       7.03856491e-02, 4.68708461e-01, 8.61800153e-01, 1.80230930e-01,\n",
       "       3.47812003e-01, 3.13775545e-01, 9.95606468e-01, 3.51811665e-01,\n",
       "       2.61042733e-01, 4.70974551e-01, 6.63474181e-01, 6.90644842e-01,\n",
       "       3.36786841e-01, 1.20937061e-01, 5.93908828e-02, 8.24224773e-01,\n",
       "       7.32096781e-01, 6.34007820e-02, 5.23349102e-01, 3.71721789e-02,\n",
       "       3.55223983e-01, 3.79313621e-01, 1.63013509e-02, 4.92265667e-01,\n",
       "       9.63727349e-01, 7.31535418e-01, 2.52451264e-01, 9.62118901e-01,\n",
       "       4.73280544e-02, 8.23098328e-01, 4.67062173e-01, 1.90304233e-02,\n",
       "       9.20059201e-01, 6.97693371e-01, 4.14895213e-01, 7.45141976e-01,\n",
       "       2.56200494e-01, 8.21998470e-01, 7.08235705e-01, 4.15935376e-01,\n",
       "       2.24195737e-01, 9.77531086e-01, 4.76689940e-01, 7.00650911e-01,\n",
       "       6.48493652e-01, 2.16788081e-01, 8.06391091e-01, 4.14507329e-01,\n",
       "       3.89099314e-01, 7.52509851e-03, 3.18256119e-01, 3.67265073e-01,\n",
       "       8.43944732e-01, 6.32354067e-01, 3.74016693e-01, 8.65583196e-01,\n",
       "       5.94746999e-01, 9.13243133e-01, 2.38375391e-01, 9.84356595e-01,\n",
       "       4.07496598e-01, 8.06678339e-01, 2.94500792e-01, 6.24554939e-01,\n",
       "       8.29716708e-01, 5.14172974e-01, 6.94027941e-01, 3.49873322e-01,\n",
       "       8.82106012e-01, 3.88190569e-01, 1.29772700e-01, 7.92037901e-01,\n",
       "       3.48291695e-01, 4.68878723e-01, 5.23215335e-01, 7.05008608e-02,\n",
       "       9.35163969e-01, 8.36073099e-01, 2.10656156e-02, 3.54507860e-01,\n",
       "       9.19147642e-01, 7.30955168e-01, 8.94333856e-01, 3.48978588e-01,\n",
       "       7.98022649e-01, 6.11278436e-01, 9.22839617e-01, 1.52746359e-01,\n",
       "       4.46930562e-01, 3.86571100e-01, 2.45327669e-01, 2.80022493e-01,\n",
       "       5.84603093e-01, 5.95456460e-01, 5.23380246e-01, 2.29887831e-01,\n",
       "       9.40135183e-02, 5.99011227e-01, 1.34760455e-01, 3.76222014e-01,\n",
       "       9.32779255e-01, 8.13802227e-01, 4.96712517e-01, 5.60494753e-01,\n",
       "       5.10289691e-02, 1.55254126e-01, 9.31452616e-02, 6.58444411e-01,\n",
       "       4.44397392e-01, 8.89941978e-01, 9.39304666e-01, 4.00142451e-01,\n",
       "       1.58140077e-01, 1.62417017e-01, 4.47508632e-01, 1.56719902e-01,\n",
       "       1.21518993e-01, 2.38705150e-01, 4.62030503e-01, 6.19705705e-01,\n",
       "       8.10119465e-01, 4.68662303e-01, 3.50051070e-01, 7.03043624e-01,\n",
       "       8.85383378e-01, 5.13230268e-01, 7.87260910e-01, 5.70760848e-01,\n",
       "       7.76500418e-01, 3.61581357e-01, 6.02412240e-01, 2.03485868e-01,\n",
       "       5.44378782e-01, 3.83588666e-01, 2.70322501e-01, 7.19144561e-03,\n",
       "       3.45650239e-01, 2.16985256e-01, 2.46039701e-01, 7.54591101e-01,\n",
       "       3.74697645e-01, 3.54144569e-01, 1.70447493e-01, 6.47852890e-01,\n",
       "       7.74161050e-01, 4.90623982e-01, 3.82746808e-01, 8.44686846e-01,\n",
       "       7.81981375e-01, 8.09077459e-01, 7.01291017e-01, 8.58430641e-01,\n",
       "       2.43402656e-01, 2.93095771e-01, 6.06473806e-01, 3.95228436e-01,\n",
       "       6.06032852e-01, 7.87240584e-01, 5.46930831e-01, 7.76939247e-01,\n",
       "       3.75561528e-01, 9.81738298e-01, 9.04691243e-01, 9.50160968e-01,\n",
       "       4.82818148e-01, 5.68455160e-01, 7.79352967e-01, 1.90624592e-01,\n",
       "       9.72067782e-01, 4.54787086e-01, 4.58123784e-01, 8.96808882e-01,\n",
       "       3.70339141e-01, 7.33238413e-01, 9.01395113e-01, 4.78093896e-01,\n",
       "       3.07247282e-01, 5.97742437e-01, 8.98117590e-01, 7.73530513e-01,\n",
       "       4.39037144e-01, 7.97133402e-01, 4.69223376e-01, 7.98033208e-01,\n",
       "       9.94150528e-01, 8.22399350e-01, 3.18286055e-01, 4.43011817e-01,\n",
       "       8.20234801e-01, 8.44613326e-01, 7.85434817e-01, 8.44109866e-01,\n",
       "       9.93996900e-01, 4.62658728e-01, 6.25096625e-01, 1.63029180e-01,\n",
       "       7.02186498e-01, 3.86009330e-01, 3.51711349e-01, 9.24271744e-01,\n",
       "       7.73848175e-01, 6.60419562e-01, 1.17310026e-01, 7.63054226e-01,\n",
       "       8.27912861e-01, 1.04130566e-01, 8.28819051e-01, 9.42606104e-01,\n",
       "       4.46522580e-01, 1.72303224e-01, 1.89780904e-01, 6.81315675e-01,\n",
       "       9.39657837e-01, 3.87237847e-01, 6.73982711e-01, 8.55492989e-01,\n",
       "       1.53902379e-01, 6.23892111e-01, 6.71123706e-01, 8.46637982e-01,\n",
       "       9.65770894e-01, 1.12136956e-01, 7.13653382e-01, 1.63556001e-01,\n",
       "       1.95781089e-01, 3.21132135e-01, 9.51215183e-01, 6.64039740e-01,\n",
       "       1.23450702e-01, 8.50223321e-01, 1.27308357e-01, 1.44111351e-01,\n",
       "       6.01340761e-01, 4.94196791e-01, 1.35186271e-01, 2.25811329e-01,\n",
       "       9.49194153e-01, 3.58463721e-01, 9.77977993e-01, 7.46122497e-01,\n",
       "       4.29524493e-02, 5.05457241e-01, 6.37517620e-01, 3.57374456e-01,\n",
       "       7.12262540e-01, 1.39623650e-01, 6.35839109e-01, 6.87327832e-01,\n",
       "       6.56379471e-01, 8.00644960e-01, 7.50106658e-01, 6.78926049e-01,\n",
       "       4.33002496e-01, 5.21521557e-01, 2.93335055e-01, 9.04326779e-01,\n",
       "       8.95894899e-02, 1.30315434e-01, 1.08583461e-01, 5.21568132e-01,\n",
       "       7.49986735e-02, 1.81590744e-01, 9.15639492e-01, 9.70441597e-01,\n",
       "       2.55651422e-01, 1.94308409e-01, 4.31930972e-01, 7.92969544e-01,\n",
       "       4.37762054e-01, 1.68021444e-01, 1.68559538e-01, 2.38700187e-02,\n",
       "       9.25384815e-01, 7.71075739e-01, 7.37603091e-01, 1.68904156e-01,\n",
       "       8.84272915e-01, 5.90141531e-01, 8.12412658e-01, 6.91160687e-01,\n",
       "       4.01005988e-01, 8.59323253e-01, 8.14444212e-01, 2.97128216e-01,\n",
       "       5.40285729e-01, 8.84091055e-01, 2.61317819e-01, 4.11129468e-01,\n",
       "       5.67443530e-01, 4.09038504e-01, 1.53772239e-01, 7.52612438e-01,\n",
       "       7.97117965e-01, 4.77958437e-01, 1.38149827e-01, 6.42362990e-02,\n",
       "       3.88339562e-01, 5.00960665e-01, 2.07108176e-01, 7.01730202e-01,\n",
       "       9.02761938e-01, 8.27778259e-01, 8.49749433e-01, 7.74316265e-01,\n",
       "       9.43706824e-01, 5.45841335e-01, 9.05132824e-01, 2.20552242e-01,\n",
       "       4.61121358e-02, 7.23895352e-01, 4.92642303e-01, 7.76843346e-01,\n",
       "       1.59183742e-01, 1.44881824e-01, 2.02318323e-02, 3.37303755e-01,\n",
       "       2.08636392e-02, 3.09645775e-01, 9.86420255e-01, 2.82285612e-01,\n",
       "       4.45512126e-01, 3.65988941e-01, 7.51759174e-01, 2.82850042e-01,\n",
       "       4.02485595e-01, 5.78011278e-01, 4.90624045e-01, 2.39171553e-01,\n",
       "       4.70759455e-01, 4.95499452e-01, 9.50819728e-01, 9.91344685e-01,\n",
       "       2.83427479e-01, 6.41048861e-01, 7.56639278e-01, 9.57168293e-02,\n",
       "       3.28974360e-01, 6.31257113e-02, 2.27711756e-02, 8.89359863e-01,\n",
       "       2.09547911e-01, 8.71182627e-01, 4.51252503e-01, 4.33017046e-01,\n",
       "       9.14055246e-02, 2.11361037e-02, 1.54989954e-01, 3.70582707e-01,\n",
       "       5.64667044e-01, 9.40735352e-01, 5.39770133e-01, 6.48733278e-01,\n",
       "       7.59554231e-01, 3.08408167e-01, 3.99534413e-01, 3.87182215e-01,\n",
       "       1.83874442e-02, 4.19433814e-01, 3.58873701e-01, 4.18239566e-01,\n",
       "       9.10936764e-01, 1.64515908e-01, 2.51015838e-01, 4.49136502e-01,\n",
       "       9.81276838e-01, 9.72096390e-02, 8.13485542e-01, 6.99013182e-01,\n",
       "       4.36764516e-01, 9.83857425e-01, 4.96736501e-01, 4.90769908e-01,\n",
       "       7.66314906e-01, 1.03108383e-01, 4.26225592e-01, 9.05397934e-01,\n",
       "       8.10865819e-01, 7.46824604e-01, 9.67938538e-01, 2.93394090e-01,\n",
       "       2.95840973e-01, 9.70475278e-01, 9.43114195e-01, 9.74210647e-01,\n",
       "       1.92820522e-01, 8.75613907e-01, 7.94148441e-01, 7.70281283e-01,\n",
       "       9.71291381e-02, 7.34790875e-02, 6.73717414e-01, 7.29725018e-01,\n",
       "       1.54195209e-02, 8.94095108e-02, 1.39541602e-01, 5.76463589e-01,\n",
       "       8.90577935e-01, 9.18818648e-01, 4.39826468e-01, 8.40152312e-01,\n",
       "       1.67604129e-01, 5.49958105e-01, 8.49518896e-01, 3.53820225e-01,\n",
       "       9.40658858e-01, 9.67596485e-01, 7.21076416e-01, 7.95484030e-01,\n",
       "       1.73684169e-02, 9.08135556e-01, 7.02564514e-01, 1.05883519e-01,\n",
       "       6.10640555e-01, 1.17324106e-01, 1.18712408e-01, 2.40848569e-01,\n",
       "       1.28246204e-03, 8.23625589e-01, 9.83428190e-01, 9.63511669e-01,\n",
       "       3.56433460e-01, 7.70093835e-01, 5.78309469e-01, 4.36421785e-01,\n",
       "       8.11992588e-02, 7.12085681e-01, 1.40747479e-01, 5.83167995e-02,\n",
       "       8.93001585e-01, 9.91503314e-01, 5.62406781e-02, 9.99224300e-02,\n",
       "       9.14465484e-01, 5.77601168e-01, 8.12337113e-01, 3.53273971e-01,\n",
       "       1.27782875e-01, 5.74535180e-01, 1.08176484e-01, 2.30077076e-01,\n",
       "       6.47371628e-01, 1.24424525e-01, 8.06533370e-01, 9.68899038e-01,\n",
       "       6.49278817e-01, 6.71919328e-02, 7.53628138e-01, 5.94493705e-01,\n",
       "       9.50972931e-01, 6.59747498e-01, 6.36003581e-01, 4.82630476e-01,\n",
       "       3.20959476e-01, 6.36223521e-01, 3.09494919e-01, 6.43144596e-01,\n",
       "       9.60191853e-01, 2.25644293e-01, 6.90338854e-01, 1.48999383e-02,\n",
       "       7.18534078e-01, 8.26305434e-01, 3.57591516e-01, 5.74077300e-01,\n",
       "       2.83208858e-01, 1.68248487e-01, 1.89023566e-01, 6.85311169e-01,\n",
       "       8.63798511e-01, 7.78631942e-01, 8.30391899e-01, 2.74241402e-01,\n",
       "       7.12359540e-01, 3.19867021e-01, 6.23041045e-01, 8.21712913e-01,\n",
       "       9.51635776e-01, 5.20675505e-01, 4.43881339e-01, 7.41991456e-01,\n",
       "       9.92132336e-01, 2.27894976e-01, 6.71703996e-01, 4.75499622e-01,\n",
       "       7.72738432e-01, 5.82895000e-01, 7.38719675e-01, 7.19736212e-01,\n",
       "       2.98112922e-02, 4.53112385e-01, 7.31996084e-01, 2.21086368e-01,\n",
       "       3.12419551e-01, 7.30866941e-01, 6.23394635e-01, 3.00241036e-01,\n",
       "       1.20627155e-01, 1.29210022e-02, 8.03659815e-01, 2.85695909e-01,\n",
       "       2.80360571e-02, 1.08648769e-01, 5.57463506e-01, 6.03676091e-01,\n",
       "       5.86174726e-01, 5.46529706e-01, 5.37212697e-01, 3.46998006e-01,\n",
       "       8.70777412e-01, 1.38655386e-01, 9.92670027e-01, 1.49937845e-01,\n",
       "       7.12345951e-01, 3.85565047e-01, 7.49914634e-01, 7.27760600e-02,\n",
       "       4.44535693e-01, 7.45520017e-01, 3.00201697e-01, 2.47819501e-01,\n",
       "       1.24458134e-01, 6.95788792e-01, 5.96498876e-01, 6.99140775e-01,\n",
       "       6.83487035e-01, 7.19430928e-01, 8.82202627e-01, 2.69270269e-01,\n",
       "       8.19899482e-01, 3.33421328e-01, 8.43049683e-01, 4.06103667e-01,\n",
       "       3.10673072e-02, 2.88950170e-01, 7.89610763e-01, 4.99364757e-01,\n",
       "       6.46352747e-01, 1.74569283e-02, 2.03147419e-01, 5.40347897e-01,\n",
       "       8.48097824e-01, 8.10327708e-01, 4.49609933e-01, 3.21861827e-01])"
      ]
     },
     "execution_count": 62,
     "metadata": {},
     "output_type": "execute_result"
    }
   ],
   "source": [
    "A"
   ]
  },
  {
   "cell_type": "code",
   "execution_count": 64,
   "id": "13a9ee6e",
   "metadata": {},
   "outputs": [],
   "source": [
    "AA = pd.DataFrame([{'a':1, 'b':2}, {'b':2, 'c':3}])"
   ]
  },
  {
   "cell_type": "code",
   "execution_count": 65,
   "id": "12ad6cf3",
   "metadata": {},
   "outputs": [
    {
     "data": {
      "text/html": [
       "<div>\n",
       "<style scoped>\n",
       "    .dataframe tbody tr th:only-of-type {\n",
       "        vertical-align: middle;\n",
       "    }\n",
       "\n",
       "    .dataframe tbody tr th {\n",
       "        vertical-align: top;\n",
       "    }\n",
       "\n",
       "    .dataframe thead th {\n",
       "        text-align: right;\n",
       "    }\n",
       "</style>\n",
       "<table border=\"1\" class=\"dataframe\">\n",
       "  <thead>\n",
       "    <tr style=\"text-align: right;\">\n",
       "      <th></th>\n",
       "      <th>a</th>\n",
       "      <th>b</th>\n",
       "      <th>c</th>\n",
       "    </tr>\n",
       "  </thead>\n",
       "  <tbody>\n",
       "    <tr>\n",
       "      <th>0</th>\n",
       "      <td>1.0</td>\n",
       "      <td>2</td>\n",
       "      <td>NaN</td>\n",
       "    </tr>\n",
       "    <tr>\n",
       "      <th>1</th>\n",
       "      <td>NaN</td>\n",
       "      <td>2</td>\n",
       "      <td>3.0</td>\n",
       "    </tr>\n",
       "  </tbody>\n",
       "</table>\n",
       "</div>"
      ],
      "text/plain": [
       "     a  b    c\n",
       "0  1.0  2  NaN\n",
       "1  NaN  2  3.0"
      ]
     },
     "execution_count": 65,
     "metadata": {},
     "output_type": "execute_result"
    }
   ],
   "source": [
    "AA"
   ]
  },
  {
   "cell_type": "code",
   "execution_count": 66,
   "id": "c9f0aec1",
   "metadata": {},
   "outputs": [
    {
     "data": {
      "text/html": [
       "<div>\n",
       "<style scoped>\n",
       "    .dataframe tbody tr th:only-of-type {\n",
       "        vertical-align: middle;\n",
       "    }\n",
       "\n",
       "    .dataframe tbody tr th {\n",
       "        vertical-align: top;\n",
       "    }\n",
       "\n",
       "    .dataframe thead th {\n",
       "        text-align: right;\n",
       "    }\n",
       "</style>\n",
       "<table border=\"1\" class=\"dataframe\">\n",
       "  <thead>\n",
       "    <tr style=\"text-align: right;\">\n",
       "      <th></th>\n",
       "      <th>a</th>\n",
       "      <th>b</th>\n",
       "      <th>c</th>\n",
       "    </tr>\n",
       "  </thead>\n",
       "  <tbody>\n",
       "    <tr>\n",
       "      <th>0</th>\n",
       "      <td>1.0</td>\n",
       "      <td>2</td>\n",
       "      <td>0.0</td>\n",
       "    </tr>\n",
       "    <tr>\n",
       "      <th>1</th>\n",
       "      <td>0.0</td>\n",
       "      <td>2</td>\n",
       "      <td>3.0</td>\n",
       "    </tr>\n",
       "  </tbody>\n",
       "</table>\n",
       "</div>"
      ],
      "text/plain": [
       "     a  b    c\n",
       "0  1.0  2  0.0\n",
       "1  0.0  2  3.0"
      ]
     },
     "execution_count": 66,
     "metadata": {},
     "output_type": "execute_result"
    }
   ],
   "source": [
    "AA.fillna(0) # fill missing values with 0."
   ]
  },
  {
   "cell_type": "markdown",
   "id": "2d6c4b94",
   "metadata": {},
   "source": [
    "### Pandas (csv files)"
   ]
  },
  {
   "cell_type": "code",
   "execution_count": 69,
   "id": "b480cf99",
   "metadata": {},
   "outputs": [],
   "source": [
    "from sklearn.impute import SimpleImputer"
   ]
  },
  {
   "cell_type": "code",
   "execution_count": 72,
   "id": "0caecec9",
   "metadata": {},
   "outputs": [],
   "source": [
    "df = pd.read_csv('data.csv')"
   ]
  },
  {
   "cell_type": "code",
   "execution_count": 74,
   "id": "f0469dec",
   "metadata": {},
   "outputs": [
    {
     "data": {
      "text/html": [
       "<div>\n",
       "<style scoped>\n",
       "    .dataframe tbody tr th:only-of-type {\n",
       "        vertical-align: middle;\n",
       "    }\n",
       "\n",
       "    .dataframe tbody tr th {\n",
       "        vertical-align: top;\n",
       "    }\n",
       "\n",
       "    .dataframe thead th {\n",
       "        text-align: right;\n",
       "    }\n",
       "</style>\n",
       "<table border=\"1\" class=\"dataframe\">\n",
       "  <thead>\n",
       "    <tr style=\"text-align: right;\">\n",
       "      <th></th>\n",
       "      <th>YearWeekISO</th>\n",
       "      <th>FirstDose</th>\n",
       "      <th>FirstDoseRefused</th>\n",
       "      <th>SecondDose</th>\n",
       "      <th>UnknownDose</th>\n",
       "      <th>NumberDosesReceived</th>\n",
       "      <th>Region</th>\n",
       "      <th>Population</th>\n",
       "      <th>ReportingCountry</th>\n",
       "      <th>TargetGroup</th>\n",
       "      <th>Vaccine</th>\n",
       "      <th>Denominator</th>\n",
       "    </tr>\n",
       "  </thead>\n",
       "  <tbody>\n",
       "    <tr>\n",
       "      <th>0</th>\n",
       "      <td>2020-W53</td>\n",
       "      <td>0</td>\n",
       "      <td>NaN</td>\n",
       "      <td>0</td>\n",
       "      <td>0</td>\n",
       "      <td>0.0</td>\n",
       "      <td>AT</td>\n",
       "      <td>8901064</td>\n",
       "      <td>AT</td>\n",
       "      <td>1_Age60+</td>\n",
       "      <td>AZ</td>\n",
       "      <td>2259262.0</td>\n",
       "    </tr>\n",
       "    <tr>\n",
       "      <th>1</th>\n",
       "      <td>2020-W53</td>\n",
       "      <td>0</td>\n",
       "      <td>NaN</td>\n",
       "      <td>0</td>\n",
       "      <td>0</td>\n",
       "      <td>0.0</td>\n",
       "      <td>AT</td>\n",
       "      <td>8901064</td>\n",
       "      <td>AT</td>\n",
       "      <td>1_Age60+</td>\n",
       "      <td>UNK</td>\n",
       "      <td>2259262.0</td>\n",
       "    </tr>\n",
       "    <tr>\n",
       "      <th>2</th>\n",
       "      <td>2020-W53</td>\n",
       "      <td>0</td>\n",
       "      <td>NaN</td>\n",
       "      <td>0</td>\n",
       "      <td>0</td>\n",
       "      <td>0.0</td>\n",
       "      <td>AT</td>\n",
       "      <td>8901064</td>\n",
       "      <td>AT</td>\n",
       "      <td>1_Age60+</td>\n",
       "      <td>MOD</td>\n",
       "      <td>2259262.0</td>\n",
       "    </tr>\n",
       "    <tr>\n",
       "      <th>3</th>\n",
       "      <td>2020-W53</td>\n",
       "      <td>2771</td>\n",
       "      <td>NaN</td>\n",
       "      <td>0</td>\n",
       "      <td>0</td>\n",
       "      <td>61425.0</td>\n",
       "      <td>AT</td>\n",
       "      <td>8901064</td>\n",
       "      <td>AT</td>\n",
       "      <td>1_Age60+</td>\n",
       "      <td>COM</td>\n",
       "      <td>2259262.0</td>\n",
       "    </tr>\n",
       "    <tr>\n",
       "      <th>4</th>\n",
       "      <td>2020-W53</td>\n",
       "      <td>0</td>\n",
       "      <td>NaN</td>\n",
       "      <td>0</td>\n",
       "      <td>0</td>\n",
       "      <td>0.0</td>\n",
       "      <td>AT</td>\n",
       "      <td>8901064</td>\n",
       "      <td>AT</td>\n",
       "      <td>1_Age60+</td>\n",
       "      <td>JANSS</td>\n",
       "      <td>2259262.0</td>\n",
       "    </tr>\n",
       "    <tr>\n",
       "      <th>5</th>\n",
       "      <td>2020-W53</td>\n",
       "      <td>0</td>\n",
       "      <td>NaN</td>\n",
       "      <td>0</td>\n",
       "      <td>0</td>\n",
       "      <td>0.0</td>\n",
       "      <td>AT</td>\n",
       "      <td>8901064</td>\n",
       "      <td>AT</td>\n",
       "      <td>1_Age&lt;60</td>\n",
       "      <td>JANSS</td>\n",
       "      <td>5099181.0</td>\n",
       "    </tr>\n",
       "    <tr>\n",
       "      <th>6</th>\n",
       "      <td>2020-W53</td>\n",
       "      <td>0</td>\n",
       "      <td>NaN</td>\n",
       "      <td>0</td>\n",
       "      <td>0</td>\n",
       "      <td>0.0</td>\n",
       "      <td>AT</td>\n",
       "      <td>8901064</td>\n",
       "      <td>AT</td>\n",
       "      <td>1_Age&lt;60</td>\n",
       "      <td>AZ</td>\n",
       "      <td>5099181.0</td>\n",
       "    </tr>\n",
       "    <tr>\n",
       "      <th>7</th>\n",
       "      <td>2020-W53</td>\n",
       "      <td>0</td>\n",
       "      <td>NaN</td>\n",
       "      <td>0</td>\n",
       "      <td>0</td>\n",
       "      <td>0.0</td>\n",
       "      <td>AT</td>\n",
       "      <td>8901064</td>\n",
       "      <td>AT</td>\n",
       "      <td>1_Age&lt;60</td>\n",
       "      <td>UNK</td>\n",
       "      <td>5099181.0</td>\n",
       "    </tr>\n",
       "    <tr>\n",
       "      <th>8</th>\n",
       "      <td>2020-W53</td>\n",
       "      <td>2340</td>\n",
       "      <td>NaN</td>\n",
       "      <td>1</td>\n",
       "      <td>0</td>\n",
       "      <td>61425.0</td>\n",
       "      <td>AT</td>\n",
       "      <td>8901064</td>\n",
       "      <td>AT</td>\n",
       "      <td>1_Age&lt;60</td>\n",
       "      <td>COM</td>\n",
       "      <td>5099181.0</td>\n",
       "    </tr>\n",
       "    <tr>\n",
       "      <th>9</th>\n",
       "      <td>2020-W53</td>\n",
       "      <td>0</td>\n",
       "      <td>NaN</td>\n",
       "      <td>0</td>\n",
       "      <td>0</td>\n",
       "      <td>0.0</td>\n",
       "      <td>AT</td>\n",
       "      <td>8901064</td>\n",
       "      <td>AT</td>\n",
       "      <td>1_Age&lt;60</td>\n",
       "      <td>MOD</td>\n",
       "      <td>5099181.0</td>\n",
       "    </tr>\n",
       "  </tbody>\n",
       "</table>\n",
       "</div>"
      ],
      "text/plain": [
       "  YearWeekISO  FirstDose  FirstDoseRefused  SecondDose  UnknownDose  \\\n",
       "0    2020-W53          0               NaN           0            0   \n",
       "1    2020-W53          0               NaN           0            0   \n",
       "2    2020-W53          0               NaN           0            0   \n",
       "3    2020-W53       2771               NaN           0            0   \n",
       "4    2020-W53          0               NaN           0            0   \n",
       "5    2020-W53          0               NaN           0            0   \n",
       "6    2020-W53          0               NaN           0            0   \n",
       "7    2020-W53          0               NaN           0            0   \n",
       "8    2020-W53       2340               NaN           1            0   \n",
       "9    2020-W53          0               NaN           0            0   \n",
       "\n",
       "   NumberDosesReceived Region  Population ReportingCountry TargetGroup  \\\n",
       "0                  0.0     AT     8901064               AT    1_Age60+   \n",
       "1                  0.0     AT     8901064               AT    1_Age60+   \n",
       "2                  0.0     AT     8901064               AT    1_Age60+   \n",
       "3              61425.0     AT     8901064               AT    1_Age60+   \n",
       "4                  0.0     AT     8901064               AT    1_Age60+   \n",
       "5                  0.0     AT     8901064               AT    1_Age<60   \n",
       "6                  0.0     AT     8901064               AT    1_Age<60   \n",
       "7                  0.0     AT     8901064               AT    1_Age<60   \n",
       "8              61425.0     AT     8901064               AT    1_Age<60   \n",
       "9                  0.0     AT     8901064               AT    1_Age<60   \n",
       "\n",
       "  Vaccine  Denominator  \n",
       "0      AZ    2259262.0  \n",
       "1     UNK    2259262.0  \n",
       "2     MOD    2259262.0  \n",
       "3     COM    2259262.0  \n",
       "4   JANSS    2259262.0  \n",
       "5   JANSS    5099181.0  \n",
       "6      AZ    5099181.0  \n",
       "7     UNK    5099181.0  \n",
       "8     COM    5099181.0  \n",
       "9     MOD    5099181.0  "
      ]
     },
     "execution_count": 74,
     "metadata": {},
     "output_type": "execute_result"
    }
   ],
   "source": [
    "df.head(10)"
   ]
  },
  {
   "cell_type": "code",
   "execution_count": 3,
   "id": "9a77ffa9",
   "metadata": {},
   "outputs": [],
   "source": [
    "import pandas as pd\n",
    "titanic_data = pd.read_csv('titanic_FS_test.csv')"
   ]
  },
  {
   "cell_type": "code",
   "execution_count": 4,
   "id": "455a5082",
   "metadata": {},
   "outputs": [
    {
     "data": {
      "text/html": [
       "<div>\n",
       "<style scoped>\n",
       "    .dataframe tbody tr th:only-of-type {\n",
       "        vertical-align: middle;\n",
       "    }\n",
       "\n",
       "    .dataframe tbody tr th {\n",
       "        vertical-align: top;\n",
       "    }\n",
       "\n",
       "    .dataframe thead th {\n",
       "        text-align: right;\n",
       "    }\n",
       "</style>\n",
       "<table border=\"1\" class=\"dataframe\">\n",
       "  <thead>\n",
       "    <tr style=\"text-align: right;\">\n",
       "      <th></th>\n",
       "      <th>Pclass</th>\n",
       "      <th>Sex</th>\n",
       "      <th>Age</th>\n",
       "      <th>Survived</th>\n",
       "    </tr>\n",
       "  </thead>\n",
       "  <tbody>\n",
       "    <tr>\n",
       "      <th>0</th>\n",
       "      <td>3</td>\n",
       "      <td>male</td>\n",
       "      <td>22.0</td>\n",
       "      <td>0</td>\n",
       "    </tr>\n",
       "    <tr>\n",
       "      <th>1</th>\n",
       "      <td>1</td>\n",
       "      <td>female</td>\n",
       "      <td>38.0</td>\n",
       "      <td>1</td>\n",
       "    </tr>\n",
       "    <tr>\n",
       "      <th>2</th>\n",
       "      <td>3</td>\n",
       "      <td>female</td>\n",
       "      <td>26.0</td>\n",
       "      <td>1</td>\n",
       "    </tr>\n",
       "    <tr>\n",
       "      <th>3</th>\n",
       "      <td>1</td>\n",
       "      <td>female</td>\n",
       "      <td>35.0</td>\n",
       "      <td>1</td>\n",
       "    </tr>\n",
       "    <tr>\n",
       "      <th>4</th>\n",
       "      <td>3</td>\n",
       "      <td>male</td>\n",
       "      <td>35.0</td>\n",
       "      <td>0</td>\n",
       "    </tr>\n",
       "    <tr>\n",
       "      <th>5</th>\n",
       "      <td>3</td>\n",
       "      <td>male</td>\n",
       "      <td>NaN</td>\n",
       "      <td>0</td>\n",
       "    </tr>\n",
       "    <tr>\n",
       "      <th>6</th>\n",
       "      <td>1</td>\n",
       "      <td>male</td>\n",
       "      <td>54.0</td>\n",
       "      <td>0</td>\n",
       "    </tr>\n",
       "    <tr>\n",
       "      <th>7</th>\n",
       "      <td>3</td>\n",
       "      <td>male</td>\n",
       "      <td>2.0</td>\n",
       "      <td>0</td>\n",
       "    </tr>\n",
       "    <tr>\n",
       "      <th>8</th>\n",
       "      <td>3</td>\n",
       "      <td>female</td>\n",
       "      <td>27.0</td>\n",
       "      <td>1</td>\n",
       "    </tr>\n",
       "    <tr>\n",
       "      <th>9</th>\n",
       "      <td>2</td>\n",
       "      <td>female</td>\n",
       "      <td>14.0</td>\n",
       "      <td>1</td>\n",
       "    </tr>\n",
       "    <tr>\n",
       "      <th>10</th>\n",
       "      <td>3</td>\n",
       "      <td>female</td>\n",
       "      <td>4.0</td>\n",
       "      <td>1</td>\n",
       "    </tr>\n",
       "    <tr>\n",
       "      <th>11</th>\n",
       "      <td>1</td>\n",
       "      <td>female</td>\n",
       "      <td>58.0</td>\n",
       "      <td>1</td>\n",
       "    </tr>\n",
       "    <tr>\n",
       "      <th>12</th>\n",
       "      <td>3</td>\n",
       "      <td>male</td>\n",
       "      <td>20.0</td>\n",
       "      <td>0</td>\n",
       "    </tr>\n",
       "    <tr>\n",
       "      <th>13</th>\n",
       "      <td>3</td>\n",
       "      <td>male</td>\n",
       "      <td>39.0</td>\n",
       "      <td>0</td>\n",
       "    </tr>\n",
       "    <tr>\n",
       "      <th>14</th>\n",
       "      <td>3</td>\n",
       "      <td>female</td>\n",
       "      <td>14.0</td>\n",
       "      <td>0</td>\n",
       "    </tr>\n",
       "    <tr>\n",
       "      <th>15</th>\n",
       "      <td>2</td>\n",
       "      <td>female</td>\n",
       "      <td>55.0</td>\n",
       "      <td>1</td>\n",
       "    </tr>\n",
       "    <tr>\n",
       "      <th>16</th>\n",
       "      <td>3</td>\n",
       "      <td>male</td>\n",
       "      <td>2.0</td>\n",
       "      <td>0</td>\n",
       "    </tr>\n",
       "    <tr>\n",
       "      <th>17</th>\n",
       "      <td>2</td>\n",
       "      <td>male</td>\n",
       "      <td>NaN</td>\n",
       "      <td>1</td>\n",
       "    </tr>\n",
       "    <tr>\n",
       "      <th>18</th>\n",
       "      <td>3</td>\n",
       "      <td>female</td>\n",
       "      <td>31.0</td>\n",
       "      <td>0</td>\n",
       "    </tr>\n",
       "    <tr>\n",
       "      <th>19</th>\n",
       "      <td>3</td>\n",
       "      <td>female</td>\n",
       "      <td>NaN</td>\n",
       "      <td>1</td>\n",
       "    </tr>\n",
       "  </tbody>\n",
       "</table>\n",
       "</div>"
      ],
      "text/plain": [
       "    Pclass     Sex   Age  Survived\n",
       "0        3    male  22.0         0\n",
       "1        1  female  38.0         1\n",
       "2        3  female  26.0         1\n",
       "3        1  female  35.0         1\n",
       "4        3    male  35.0         0\n",
       "5        3    male   NaN         0\n",
       "6        1    male  54.0         0\n",
       "7        3    male   2.0         0\n",
       "8        3  female  27.0         1\n",
       "9        2  female  14.0         1\n",
       "10       3  female   4.0         1\n",
       "11       1  female  58.0         1\n",
       "12       3    male  20.0         0\n",
       "13       3    male  39.0         0\n",
       "14       3  female  14.0         0\n",
       "15       2  female  55.0         1\n",
       "16       3    male   2.0         0\n",
       "17       2    male   NaN         1\n",
       "18       3  female  31.0         0\n",
       "19       3  female   NaN         1"
      ]
     },
     "execution_count": 4,
     "metadata": {},
     "output_type": "execute_result"
    }
   ],
   "source": [
    "titanic_data.head(20)"
   ]
  },
  {
   "cell_type": "code",
   "execution_count": null,
   "id": "417f4670",
   "metadata": {},
   "outputs": [],
   "source": []
  }
 ],
 "metadata": {
  "kernelspec": {
   "display_name": "Python 3",
   "language": "python",
   "name": "python3"
  },
  "language_info": {
   "codemirror_mode": {
    "name": "ipython",
    "version": 3
   },
   "file_extension": ".py",
   "mimetype": "text/x-python",
   "name": "python",
   "nbconvert_exporter": "python",
   "pygments_lexer": "ipython3",
   "version": "3.8.8"
  }
 },
 "nbformat": 4,
 "nbformat_minor": 5
}
