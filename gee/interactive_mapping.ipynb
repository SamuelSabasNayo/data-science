{
 "cells": [
  {
   "cell_type": "code",
   "execution_count": 23,
   "id": "b7baeee0",
   "metadata": {},
   "outputs": [
    {
     "data": {
      "application/vnd.jupyter.widget-view+json": {
       "model_id": "fe914bfcdbd64654a082ce6fd4531546",
       "version_major": 2,
       "version_minor": 0
      },
      "text/plain": [
       "Map(center=[-1.9403, 29.8739], controls=(WidgetControl(options=['position', 'transparent_bg'], widget=HBox(chi…"
      ]
     },
     "metadata": {},
     "output_type": "display_data"
    }
   ],
   "source": [
    "import geemap\n",
    "myMap = geemap.Map(center=[-1.9403, 29.8739], zoom=8) # coordinates of Rwanda 1.9403° S & 29.8739° E\n",
    "myMap"
   ]
  },
  {
   "cell_type": "code",
   "execution_count": 26,
   "id": "bba5c8d2",
   "metadata": {},
   "outputs": [],
   "source": [
    "myMap.add_basemap(\"HYBRID\")"
   ]
  },
  {
   "cell_type": "code",
   "execution_count": null,
   "id": "caaedc33",
   "metadata": {},
   "outputs": [],
   "source": []
  }
 ],
 "metadata": {
  "kernelspec": {
   "display_name": "Python 3",
   "language": "python",
   "name": "python3"
  },
  "language_info": {
   "codemirror_mode": {
    "name": "ipython",
    "version": 3
   },
   "file_extension": ".py",
   "mimetype": "text/x-python",
   "name": "python",
   "nbconvert_exporter": "python",
   "pygments_lexer": "ipython3",
   "version": "3.9.6"
  }
 },
 "nbformat": 4,
 "nbformat_minor": 5
}
